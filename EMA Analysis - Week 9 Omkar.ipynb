{
 "cells": [
  {
   "cell_type": "code",
   "execution_count": 29,
   "metadata": {},
   "outputs": [],
   "source": [
    "%matplotlib inline\n",
    "import numpy as np\n",
    "import pandas as pd\n",
    "import matplotlib.pyplot as plt\n",
    "import seaborn as sns\n",
    "from numpy import *\n",
    "import glob\n",
    "import scipy \n",
    "from datetime import datetime as dt\n",
    "import sklearn\n",
    "sns.style = 'darkgrid'"
   ]
  },
  {
   "cell_type": "code",
   "execution_count": 31,
   "metadata": {},
   "outputs": [],
   "source": [
    "#The following function returns all of the EMA data for each student, and compiles it onto one dataframe.\n",
    "def combine_daily_emas(ema_name): \n",
    "    \"\"\"\n",
    "    input: ema_name -- name of the ema we're looking at\n",
    "    output: dataframe containing the data from the desired ema compiled for all uids\n",
    "    \"\"\"\n",
    "    # list of all the desired ema's \n",
    "    all_emas = glob.glob('dataset/dataset/EMA/response/' + ema_name + '/' + ema_name +'_*.json')\n",
    "    # index to start the uid\n",
    "    uid_start = len('dataset/dataset/EMA/response/' + ema_name + '/' + ema_name +'_')\n",
    "    # this is where we'll compile the data\n",
    "    total_ema_data = pd.DataFrame()\n",
    "    # loops through all the ema data\n",
    "    for ema in all_emas: \n",
    "        # the uid is the three characters starting at uid_start index\n",
    "        uid = ema[uid_start:uid_start + 3]\n",
    "        # read the data\n",
    "        ema_data = pd.read_json(ema)\n",
    "        # keep track of day and day of week\n",
    "        try:\n",
    "            ema_data['doy'] = ema_data['resp_time'].dt.dayofyear \n",
    "            ema_data['day of week'] = ema_data['resp_time'].dt.dayofweek\n",
    "            ema_data = ema_data.groupby('doy').mean()\n",
    "            ema_data['day'] = ema_data.index\n",
    "        except:\n",
    "            # in this case there is an empty dataframe for this uid\n",
    "            continue\n",
    "        \n",
    "        # keep track of uids\n",
    "        ema_data['uid'] = uid\n",
    "        \n",
    "        # compile the data\n",
    "        total_ema_data = total_ema_data.append(ema_data)\n",
    "\n",
    "    return total_ema_data    "
   ]
  },
  {
   "cell_type": "code",
   "execution_count": 32,
   "metadata": {},
   "outputs": [],
   "source": [
    "# The following function merges the desired EMAs for each student.\n",
    "def merge_EMA(EMA_list): \n",
    "    \"\"\"\n",
    "    input: EMA_list -- contains a list of tuples, each tuple containing the name of an EMA and the name of a desired column\n",
    "    in that EMA.\n",
    "    output: a dataframe combining all those EMA's for every user. \n",
    "    \"\"\"\n",
    "    initialized = False\n",
    "    for tup in EMA_list: \n",
    "        ema = tup[0]\n",
    "        col = tup[1]\n",
    "        ema_for_all_students = combine_daily_emas(ema)\n",
    "        \n",
    "        relevant_columns = ema_for_all_students[[col, 'day', 'day of week', 'uid']]\n",
    "        \n",
    "        if initialized is False: \n",
    "            initialized = True\n",
    "            overall_merge = relevant_columns\n",
    "        else: \n",
    "            overall_merge = overall_merge.merge(relevant_columns, on = ['day', 'day of week', 'uid'], how = 'inner')\n",
    "    \n",
    "    return overall_merge"
   ]
  },
  {
   "cell_type": "code",
   "execution_count": 38,
   "metadata": {},
   "outputs": [],
   "source": [
    "# The following function returns the feature importances for the models we will run down the line.\n",
    "from sklearn.model_selection import train_test_split, cross_val_score, LeaveOneOut\n",
    "\n",
    "def model_importance(model, features, target, features_names): \n",
    "    \"\"\"\n",
    "    given input features and targets (labels), a random forest model is created to \n",
    "    \"\"\"\n",
    "    n_features = features.shape[1]\n",
    "    print(cross_val_score(model, features, target, cv = 5))\n",
    "    model.fit(features, target)\n",
    "    plt.barh(range(n_features), model.feature_importances_, align='center')\n",
    "    plt.yticks(np.arange(n_features), features_names)\n",
    "    plt.xlabel('feature importance')\n",
    "    return model.feature_importances_"
   ]
  },
  {
   "cell_type": "code",
   "execution_count": 39,
   "metadata": {},
   "outputs": [],
   "source": [
    "#This function returns a new dataframe with all of the activity durations for a particular student throughout the term.\n",
    "#Only activities longer than 1 minute were considered.\n",
    "#At the end, we dediced to use total activity duration (sum of activity durations per day) for our model\n",
    "\n",
    "def activity_analysis(uid):\n",
    "    activity = pd.read_csv('dataset/dataset/sensing/activity/activity_' + uid + '.csv')\n",
    "    #Change the path as needed when running the files on your computer.\n",
    "    activity['day'] = pd.to_datetime(activity['timestamp'], unit = 's').dt.dayofyear\n",
    "    daily_activity = activity.groupby('day').mean()\n",
    "    def shift_counter_activity(data):\n",
    "        shift_num = 0\n",
    "        list_shift_num = []\n",
    "        list_time = []\n",
    "        list_day = []\n",
    "        for i in range(0, len(data)):\n",
    "            if data[' activity inference'][i] != 0:\n",
    "                try: \n",
    "                    if data[' activity inference'][i+1] != 0 and (data.index[i]+1) == data.index[i+1]:\n",
    "                        shift_num += 1\n",
    "                    else:\n",
    "                        list_shift_num.append(shift_num)\n",
    "                        shift_num = 0\n",
    "                except:\n",
    "                    list_shift_num.append(shift_num)\n",
    "                    shift_num = 0\n",
    "        return list_shift_num\n",
    "    activity_shifts = shift_counter_activity(activity)\n",
    "    edited_act = activity[activity[' activity inference'] !=0]\n",
    "    edited_act = edited_act.reset_index()\n",
    "    def shifts_only(list1):\n",
    "        shifts_only_list = []\n",
    "        for i in list1:\n",
    "            if i != 0:\n",
    "                shifts_only_list.append(i)\n",
    "        return shifts_only_list\n",
    "    new_activity_shifts = shifts_only(activity_shifts)\n",
    "    def get_sums(list1):\n",
    "        list_sums_b = []\n",
    "        for i in range(0,len(list1)+1):\n",
    "            new_list = list1[:i]\n",
    "            sums = sum(new_list)\n",
    "            list_sums_b.append(sums)\n",
    "        return list_sums_b\n",
    "    list_sums_before_activity = get_sums(activity_shifts)\n",
    "    def activity_dur(list_shift_num, data):\n",
    "        time_deltas = []\n",
    "        day = []\n",
    "        start_time = []\n",
    "        for i in range(0, len(list_shift_num)):\n",
    "            if i == 0:\n",
    "                time_deltas.append(data['timestamp'][list_shift_num[i]] - data['timestamp'][0])\n",
    "                day.append(data.day[list_shift_num[i]+i+list_sums_before_activity[i]])\n",
    "                start_time.append(data.timestamp[list_shift_num[i]+i+list_sums_before_activity[i]])\n",
    "            elif i != 0:\n",
    "                time_deltas.append(data['timestamp'][list_shift_num[i]+i+list_sums_before_activity[i]] - data['timestamp'][list_sums_before_activity[i]+i])\n",
    "                day.append(data.day[list_shift_num[i]+i+list_sums_before_activity[i]])\n",
    "                start_time.append(data.timestamp[list_shift_num[i]+i+list_sums_before_activity[i]])\n",
    "        dataframe = pd.DataFrame({'Time Delta': time_deltas, 'day': day, 'Start Time': start_time})\n",
    "        return dataframe\n",
    "    activity_dur_df = activity_dur(activity_shifts, edited_act)\n",
    "    activity_dur_df = activity_dur_df[activity_dur_df['Time Delta'] >= 60]\n",
    "    activity_dur_day = activity_dur_df.groupby('day')['Time Delta'].sum()\n",
    "    return activity_dur_day"
   ]
  },
  {
   "cell_type": "code",
   "execution_count": 40,
   "metadata": {},
   "outputs": [],
   "source": [
    "from sklearn.ensemble import RandomForestClassifier, GradientBoostingClassifier\n",
    "from sklearn.svm import LinearSVC\n",
    "def pam(uid): \n",
    "    \"\"\"\n",
    "    This function compiles all of the relevant sensor day for our model: \n",
    "    Avg. Activity inference, total activity duration (as Time Delta), sleep duration, # of bluetooth colocations, # of unique locations, \n",
    "    total darkness duration, conversation duration, and conversation frequency during the day, evening and night epochs.\n",
    "    \"\"\"\n",
    "    pam = pd.read_json('dataset/dataset/EMA/response/PAM/PAM_' + uid + '.json')\n",
    "    pam = pam.dropna()\n",
    "    pam['day'] = pam['resp_time'].dt.dayofyear\n",
    "    pam = pam.groupby('day').mean()\n",
    "    # since pam levels are discrete, we want to take the nearest overall PAM level for the day \n",
    "    pam = pam.apply(lambda x: round(x))\n",
    "    pam['doy'] = pam.index\n",
    "    \n",
    "    # The following code reads the relevant sensor data to compile our features.\n",
    "    \n",
    "    activity = pd.read_csv('dataset/dataset/sensing/activity/activity_' + uid + '.csv')\n",
    "    activity['day'] = pd.to_datetime(activity['timestamp'], unit = 's').dt.dayofyear\n",
    "    daily_activity = activity.groupby('day').mean()\n",
    "    \n",
    "    #To find daily activity, we call the function from the previous cell that finds total activity time per day.\n",
    "    daily_activity_dur = activity_analysis(uid)\n",
    "    activity_feat = pd.merge(daily_activity, daily_activity_dur, on='day', how='inner')\n",
    "    \n",
    "    conversation = pd.read_csv('dataset/dataset/sensing/conversation/conversation_' + uid + '.csv')\n",
    "    conversation['day'] = pd.to_datetime(conversation['start_timestamp'], unit = 's').dt.dayofyear\n",
    "    conversation['start hour'] = pd.to_datetime(conversation['start_timestamp'], unit='s').dt.hour\n",
    "    conversation['end hour'] = pd.to_datetime(conversation[' end_timestamp'], unit='s').dt.hour\n",
    "    conversation['convo_duration'] = conversation[' end_timestamp'] - conversation['start_timestamp']\n",
    "    conversation['epoch'] = list(zip(conversation['start hour'], conversation['end hour']))\n",
    "    def epoch(times_tuple):        \n",
    "        start = times_tuple[0]\n",
    "        end = times_tuple[1]\n",
    "        \n",
    "        if (start and end) > 10 and (start and end) <=18:\n",
    "            return 'Day'\n",
    "        elif (start and end) >0 and (start and end) <=10:\n",
    "            return 'Night'\n",
    "        elif (start and end) >18:\n",
    "            return 'Evening'\n",
    "    \n",
    "    conversation['epoch'] = conversation['epoch'].apply(epoch)\n",
    "    conversation['day epoch'] = conversation['epoch']=='Day'\n",
    "    conversation['eve epoch'] = conversation['epoch']=='Evening'\n",
    "    conversation['night epoch'] = conversation['epoch']=='Night'\n",
    "    conversation = conversation.replace(False, np.nan)\n",
    "    conversation_freqs = conversation.groupby('day').count()\n",
    "    \n",
    "    \n",
    "    bluetooth = pd.read_csv('dataset/dataset/sensing/bluetooth/bt_' + uid + '.csv')\n",
    "    bluetooth['day'] = pd.to_datetime(bluetooth['time'], unit = 's').dt.dayofyear\n",
    "    bluetooth = bluetooth.groupby('day').count()\n",
    "    bluetooth['number colocations'] = bluetooth['time']\n",
    "        \n",
    "    darkness = pd.read_csv('dataset/dataset/sensing/dark/dark_' + uid + '.csv')\n",
    "    darkness['day'] = pd.to_datetime(darkness['start'], unit = 's').dt.dayofyear\n",
    "    darkness['dark duration'] = darkness['end'] - darkness['start']\n",
    "    darkness = darkness.groupby('day').sum()\n",
    "    \n",
    "    wifi_locations = pd.read_csv('dataset/dataset/sensing/wifi_location/wifi_location_' + uid + '.csv')\n",
    "    wifi_locations.reset_index(inplace = True)\n",
    "    wifi_locations.columns = (\"timestamp\", \"location\", \"null\")\n",
    "    wifi_locations = wifi_locations.drop(\"null\", 1)\n",
    "    wifi_locations['day'] = pd.to_datetime(wifi_locations['timestamp'], unit = 's').dt.dayofyear\n",
    "    wifi_locations = pd.DataFrame(wifi_locations.groupby('day')['location'].unique())\n",
    "    wifi_locations['unique locations'] = wifi_locations['location'].apply(lambda x: len(x))\n",
    "    \n",
    "    features_list = [(activity_feat, ' activity inference'), (activity_feat, 'Time Delta'), (darkness, 'dark duration'), \n",
    "                     (bluetooth, 'number colocations'), \n",
    "                     (conversation_freqs, 'convo_duration'), (conversation_freqs, 'day epoch'), (conversation_freqs, 'eve epoch'), (conversation_freqs, 'night epoch'), \n",
    "                     (wifi_locations, 'unique locations')]\n",
    "    \n",
    "    # The following lines of code combines all of the feature (sensor) and target (PAM) data onto one dataframe.\n",
    "    data = pam\n",
    "    for feat in features_list: \n",
    "        #print(data.shape)\n",
    "        data = data.merge(feat[0][[feat[1]]], \n",
    "                                left_on = 'doy', right_on = 'day', how = 'inner')\n",
    "        \n",
    "    \n",
    "    features_names = [' activity inference', 'Time Delta', 'dark duration',\n",
    "                     'number colocations', \"convo_duration\", 'day epoch', 'eve epoch', 'night epoch', 'unique locations']\n",
    "    features = data[features_names].values\n",
    "    \n",
    "    target = data['picture_idx'].values\n",
    "    \n",
    "    \n",
    "    #The following line of code returns a plot of the feature importances by calling a previous function.\n",
    "    feat_import = model_importance(GradientBoostingClassifier(), features, target, features_names)\n",
    "    \n",
    "    return feat_import, features_names\n"
   ]
  },
  {
   "cell_type": "code",
   "execution_count": 41,
   "metadata": {},
   "outputs": [
    {
     "name": "stderr",
     "output_type": "stream",
     "text": [
      "/opt/anaconda3/lib/python3.7/site-packages/sklearn/model_selection/_split.py:657: Warning: The least populated class in y has only 1 members, which is too few. The minimum number of members in any class cannot be less than n_splits=5.\n",
      "  % (min_groups, self.n_splits)), Warning)\n"
     ]
    },
    {
     "name": "stdout",
     "output_type": "stream",
     "text": [
      "[0.18181818 0.         0.         0.         0.        ]\n"
     ]
    },
    {
     "data": {
      "image/png": "[encoded data removed]",
      "text/plain": [
       "<Figure size 432x288 with 1 Axes>"
      ]
     },
     "metadata": {
      "needs_background": "light"
     },
     "output_type": "display_data"
    }
   ],
   "source": [
    "#This is a feature importance plot from using the GradientBoostingClassifier\n",
    "x = pam('u07')"
   ]
  },
  {
   "cell_type": "code",
   "execution_count": 42,
   "metadata": {},
   "outputs": [
    {
     "name": "stderr",
     "output_type": "stream",
     "text": [
      "/opt/anaconda3/lib/python3.7/site-packages/sklearn/model_selection/_split.py:657: Warning: The least populated class in y has only 1 members, which is too few. The minimum number of members in any class cannot be less than n_splits=5.\n",
      "  % (min_groups, self.n_splits)), Warning)\n"
     ]
    },
    {
     "name": "stdout",
     "output_type": "stream",
     "text": [
      "[0.18181818 0.125      0.         0.         0.        ]\n"
     ]
    },
    {
     "data": {
      "image/png": "[encoded data removed]",
      "text/plain": [
       "<Figure size 432x288 with 1 Axes>"
      ]
     },
     "metadata": {
      "needs_background": "light"
     },
     "output_type": "display_data"
    }
   ],
   "source": [
    "#This is a feature importance plot from using the RandomForestClassifier\n",
    "y = pam('u07')"
   ]
  },
  {
   "cell_type": "code",
   "execution_count": 43,
   "metadata": {},
   "outputs": [],
   "source": [
    "#This function returns the feature importances for all students.\n",
    "def compile_feat_imports(): \n",
    "\n",
    "    pam_files = glob.glob('dataset/dataset/EMA/response/PAM/PAM_*.json')\n",
    "    uid_start = len('dataset/dataset/EMA/response/PAM/PAM_')\n",
    "    counter = 1\n",
    "    # loops through all the files and averages the feature importance lists\n",
    "    for file in pam_files: \n",
    "        # the uid indexed from the file text\n",
    "        uid = file[uid_start:uid_start+3]\n",
    "        \n",
    "        try:\n",
    "            # Importane is obtained from the previous feature importance function (labeled as pam)\n",
    "            importance = pam(uid)\n",
    "        except: \n",
    "            # in the case there was no data in the user's ema file,  we skip that user. \n",
    "            continue \n",
    "        \n",
    "        if importance is None:\n",
    "            continue \n",
    "        \n",
    "        if counter == 1: \n",
    "            uid_feature_importance = pam(uid)[0]\n",
    "        else: \n",
    "            uid_feature_importance = (uid_feature_importance*(counter - 1) + pam(uid)[0])/counter\n",
    "        counter += 1\n",
    "        \n",
    "    return uid_feature_importance"
   ]
  },
  {
   "cell_type": "code",
   "execution_count": 45,
   "metadata": {},
   "outputs": [],
   "source": [
    "# This function orders and sorts the sensor data.\n",
    "def order(feat_imp, sensors): \n",
    "    \"\"\"\n",
    "    inputs: feat_imp -- array containing the importance of each sensor\n",
    "            sensors -- the sensor corresponding to each element in the array\n",
    "    \"\"\"\n",
    "    # sort from least to greatest\n",
    "    sorty = np.sort(feat_imp)\n",
    "    \n",
    "    # make a dictionary where the key is the feature importance and the value is the sensor \n",
    "    # im making the assumption that no two keys will be the same since there are not many sensors and \n",
    "    # accuracy is to many decimals. \n",
    "    sorty_dict = {}\n",
    "    for i in range(len(feat_imp)): \n",
    "        sorty_dict[feat_imp[i]] = sensors[i]\n",
    "    \n",
    "    # make a sorted sensors list using the dictionary\n",
    "    sorted_sensors = []\n",
    "    for elem in sorty: \n",
    "        sorted_sensors.append(sorty_dict[elem])\n",
    "    \n",
    "    # reverse so the order is most important to least important sensor\n",
    "    sorted_sensors.reverse()\n",
    "    \n",
    "    return sorted_sensors"
   ]
  },
  {
   "cell_type": "code",
   "execution_count": 46,
   "metadata": {},
   "outputs": [],
   "source": [
    "#This function ranks feature data for each student with respect to predicting their PAM values.\n",
    "#The rankings are returned as a dictionary.\n",
    "def rankings():\n",
    "    pam_files = glob.glob('dataset/dataset/EMA/response/PAM/PAM_*.json')\n",
    "    uid_start = len('dataset/dataset/EMA/response/PAM/PAM_')\n",
    "    counter = 1\n",
    "    # this dictionary will keep track of the most important sensor for each user. \n",
    "    most_imp_dict = {}\n",
    "    # loops through all the files and averages the feature importance lists\n",
    "    for file in pam_files: \n",
    "        # the uid indexed from the file text\n",
    "        uid = file[uid_start:uid_start+3]\n",
    "        # find feature importance\n",
    "        try:\n",
    "            res = pam(uid)\n",
    "        except:\n",
    "        #print(uid)\n",
    "            continue\n",
    "        if res is None: \n",
    "            continue\n",
    "        feat_imp = res[0]\n",
    "        sensors = res[1]\n",
    "        # reorder the features here\n",
    "        most_imp_dict[uid] = order(feat_imp, sensors)\n",
    "    return most_imp_dict"
   ]
  },
  {
   "cell_type": "code",
   "execution_count": 47,
   "metadata": {},
   "outputs": [
    {
     "name": "stderr",
     "output_type": "stream",
     "text": [
      "/opt/anaconda3/lib/python3.7/site-packages/sklearn/model_selection/_split.py:657: Warning: The least populated class in y has only 1 members, which is too few. The minimum number of members in any class cannot be less than n_splits=5.\n",
      "  % (min_groups, self.n_splits)), Warning)\n"
     ]
    },
    {
     "name": "stdout",
     "output_type": "stream",
     "text": [
      "[0.09090909 0.         0.         0.         0.        ]\n"
     ]
    },
    {
     "name": "stderr",
     "output_type": "stream",
     "text": [
      "/opt/anaconda3/lib/python3.7/site-packages/sklearn/model_selection/_split.py:657: Warning: The least populated class in y has only 1 members, which is too few. The minimum number of members in any class cannot be less than n_splits=5.\n",
      "  % (min_groups, self.n_splits)), Warning)\n"
     ]
    },
    {
     "name": "stdout",
     "output_type": "stream",
     "text": [
      "[0.33333333 0.22222222 0.125      0.5        0.        ]\n"
     ]
    },
    {
     "name": "stderr",
     "output_type": "stream",
     "text": [
      "/opt/anaconda3/lib/python3.7/site-packages/sklearn/model_selection/_split.py:657: Warning: The least populated class in y has only 1 members, which is too few. The minimum number of members in any class cannot be less than n_splits=5.\n",
      "  % (min_groups, self.n_splits)), Warning)\n"
     ]
    },
    {
     "name": "stdout",
     "output_type": "stream",
     "text": [
      "[0.         0.         0.08333333 0.14285714 0.2       ]\n"
     ]
    },
    {
     "name": "stderr",
     "output_type": "stream",
     "text": [
      "/opt/anaconda3/lib/python3.7/site-packages/sklearn/model_selection/_split.py:657: Warning: The least populated class in y has only 1 members, which is too few. The minimum number of members in any class cannot be less than n_splits=5.\n",
      "  % (min_groups, self.n_splits)), Warning)\n"
     ]
    },
    {
     "name": "stdout",
     "output_type": "stream",
     "text": [
      "[0.18181818 0.         0.         1.         0.        ]\n"
     ]
    },
    {
     "name": "stderr",
     "output_type": "stream",
     "text": [
      "/opt/anaconda3/lib/python3.7/site-packages/sklearn/model_selection/_split.py:657: Warning: The least populated class in y has only 1 members, which is too few. The minimum number of members in any class cannot be less than n_splits=5.\n",
      "  % (min_groups, self.n_splits)), Warning)\n"
     ]
    },
    {
     "name": "stdout",
     "output_type": "stream",
     "text": [
      "[0. 0. 0. 0. 0.]\n"
     ]
    },
    {
     "name": "stderr",
     "output_type": "stream",
     "text": [
      "/opt/anaconda3/lib/python3.7/site-packages/sklearn/model_selection/_split.py:657: Warning: The least populated class in y has only 2 members, which is too few. The minimum number of members in any class cannot be less than n_splits=5.\n",
      "  % (min_groups, self.n_splits)), Warning)\n"
     ]
    },
    {
     "name": "stdout",
     "output_type": "stream",
     "text": [
      "[0.16666667 0.         0.1        0.125      0.33333333]\n"
     ]
    },
    {
     "name": "stderr",
     "output_type": "stream",
     "text": [
      "/opt/anaconda3/lib/python3.7/site-packages/sklearn/model_selection/_split.py:657: Warning: The least populated class in y has only 1 members, which is too few. The minimum number of members in any class cannot be less than n_splits=5.\n",
      "  % (min_groups, self.n_splits)), Warning)\n"
     ]
    },
    {
     "name": "stdout",
     "output_type": "stream",
     "text": [
      "[0.  0.  0.  0.  0.2]\n"
     ]
    },
    {
     "name": "stderr",
     "output_type": "stream",
     "text": [
      "/opt/anaconda3/lib/python3.7/site-packages/sklearn/model_selection/_split.py:657: Warning: The least populated class in y has only 1 members, which is too few. The minimum number of members in any class cannot be less than n_splits=5.\n",
      "  % (min_groups, self.n_splits)), Warning)\n"
     ]
    },
    {
     "name": "stdout",
     "output_type": "stream",
     "text": [
      "[0.2        0.33333333 0.1        0.11111111 0.        ]\n"
     ]
    },
    {
     "name": "stderr",
     "output_type": "stream",
     "text": [
      "/opt/anaconda3/lib/python3.7/site-packages/sklearn/model_selection/_split.py:657: Warning: The least populated class in y has only 1 members, which is too few. The minimum number of members in any class cannot be less than n_splits=5.\n",
      "  % (min_groups, self.n_splits)), Warning)\n"
     ]
    },
    {
     "name": "stdout",
     "output_type": "stream",
     "text": [
      "[0.23076923 0.3        0.2        0.25       0.5       ]\n"
     ]
    },
    {
     "name": "stderr",
     "output_type": "stream",
     "text": [
      "/opt/anaconda3/lib/python3.7/site-packages/sklearn/model_selection/_split.py:657: Warning: The least populated class in y has only 1 members, which is too few. The minimum number of members in any class cannot be less than n_splits=5.\n",
      "  % (min_groups, self.n_splits)), Warning)\n"
     ]
    },
    {
     "name": "stdout",
     "output_type": "stream",
     "text": [
      "[0.13333333 0.         0.         0.33333333 0.        ]\n"
     ]
    },
    {
     "name": "stderr",
     "output_type": "stream",
     "text": [
      "/opt/anaconda3/lib/python3.7/site-packages/sklearn/model_selection/_split.py:657: Warning: The least populated class in y has only 1 members, which is too few. The minimum number of members in any class cannot be less than n_splits=5.\n",
      "  % (min_groups, self.n_splits)), Warning)\n"
     ]
    },
    {
     "name": "stdout",
     "output_type": "stream",
     "text": [
      "[0.         0.14285714 0.         1.         0.        ]\n"
     ]
    },
    {
     "name": "stderr",
     "output_type": "stream",
     "text": [
      "/opt/anaconda3/lib/python3.7/site-packages/sklearn/model_selection/_split.py:657: Warning: The least populated class in y has only 1 members, which is too few. The minimum number of members in any class cannot be less than n_splits=5.\n",
      "  % (min_groups, self.n_splits)), Warning)\n"
     ]
    },
    {
     "name": "stdout",
     "output_type": "stream",
     "text": [
      "[0.15384615 0.25       0.16666667 0.         0.2       ]\n"
     ]
    },
    {
     "name": "stderr",
     "output_type": "stream",
     "text": [
      "/opt/anaconda3/lib/python3.7/site-packages/sklearn/model_selection/_split.py:657: Warning: The least populated class in y has only 1 members, which is too few. The minimum number of members in any class cannot be less than n_splits=5.\n",
      "  % (min_groups, self.n_splits)), Warning)\n"
     ]
    },
    {
     "name": "stdout",
     "output_type": "stream",
     "text": [
      "[0.18181818 0.2        0.125      0.42857143 0.4       ]\n"
     ]
    },
    {
     "name": "stderr",
     "output_type": "stream",
     "text": [
      "/opt/anaconda3/lib/python3.7/site-packages/sklearn/model_selection/_split.py:657: Warning: The least populated class in y has only 1 members, which is too few. The minimum number of members in any class cannot be less than n_splits=5.\n",
      "  % (min_groups, self.n_splits)), Warning)\n"
     ]
    },
    {
     "name": "stdout",
     "output_type": "stream",
     "text": [
      "[0.         0.         0.11111111 0.11111111 0.33333333]\n"
     ]
    },
    {
     "name": "stderr",
     "output_type": "stream",
     "text": [
      "/opt/anaconda3/lib/python3.7/site-packages/sklearn/model_selection/_split.py:657: Warning: The least populated class in y has only 1 members, which is too few. The minimum number of members in any class cannot be less than n_splits=5.\n",
      "  % (min_groups, self.n_splits)), Warning)\n"
     ]
    },
    {
     "name": "stdout",
     "output_type": "stream",
     "text": [
      "[0.2        0.33333333 0.4        1.         0.66666667]\n"
     ]
    },
    {
     "name": "stderr",
     "output_type": "stream",
     "text": [
      "/opt/anaconda3/lib/python3.7/site-packages/sklearn/model_selection/_split.py:657: Warning: The least populated class in y has only 1 members, which is too few. The minimum number of members in any class cannot be less than n_splits=5.\n",
      "  % (min_groups, self.n_splits)), Warning)\n"
     ]
    },
    {
     "name": "stdout",
     "output_type": "stream",
     "text": [
      "[0.125 0.    0.25  0.    0.   ]\n"
     ]
    },
    {
     "name": "stderr",
     "output_type": "stream",
     "text": [
      "/opt/anaconda3/lib/python3.7/site-packages/sklearn/model_selection/_split.py:657: Warning: The least populated class in y has only 1 members, which is too few. The minimum number of members in any class cannot be less than n_splits=5.\n",
      "  % (min_groups, self.n_splits)), Warning)\n"
     ]
    },
    {
     "name": "stdout",
     "output_type": "stream",
     "text": [
      "[0.05882353 0.16666667 0.2        0.33333333 0.55555556]\n"
     ]
    },
    {
     "name": "stderr",
     "output_type": "stream",
     "text": [
      "/opt/anaconda3/lib/python3.7/site-packages/sklearn/model_selection/_split.py:657: Warning: The least populated class in y has only 1 members, which is too few. The minimum number of members in any class cannot be less than n_splits=5.\n",
      "  % (min_groups, self.n_splits)), Warning)\n"
     ]
    },
    {
     "name": "stdout",
     "output_type": "stream",
     "text": [
      "[0.38461538 0.18181818 0.1        0.28571429 0.28571429]\n"
     ]
    },
    {
     "name": "stderr",
     "output_type": "stream",
     "text": [
      "/opt/anaconda3/lib/python3.7/site-packages/sklearn/model_selection/_split.py:657: Warning: The least populated class in y has only 2 members, which is too few. The minimum number of members in any class cannot be less than n_splits=5.\n",
      "  % (min_groups, self.n_splits)), Warning)\n"
     ]
    },
    {
     "name": "stdout",
     "output_type": "stream",
     "text": [
      "[0.21428571 0.41666667 0.3        0.22222222 0.22222222]\n"
     ]
    },
    {
     "name": "stderr",
     "output_type": "stream",
     "text": [
      "/opt/anaconda3/lib/python3.7/site-packages/sklearn/model_selection/_split.py:657: Warning: The least populated class in y has only 1 members, which is too few. The minimum number of members in any class cannot be less than n_splits=5.\n",
      "  % (min_groups, self.n_splits)), Warning)\n"
     ]
    },
    {
     "name": "stdout",
     "output_type": "stream",
     "text": [
      "[0.18181818 0.33333333 0.25       0.75       0.33333333]\n"
     ]
    },
    {
     "name": "stderr",
     "output_type": "stream",
     "text": [
      "/opt/anaconda3/lib/python3.7/site-packages/sklearn/model_selection/_split.py:657: Warning: The least populated class in y has only 1 members, which is too few. The minimum number of members in any class cannot be less than n_splits=5.\n",
      "  % (min_groups, self.n_splits)), Warning)\n"
     ]
    },
    {
     "name": "stdout",
     "output_type": "stream",
     "text": [
      "[0.1        0.28571429 0.33333333 0.         0.        ]\n"
     ]
    },
    {
     "name": "stderr",
     "output_type": "stream",
     "text": [
      "/opt/anaconda3/lib/python3.7/site-packages/sklearn/model_selection/_split.py:657: Warning: The least populated class in y has only 1 members, which is too few. The minimum number of members in any class cannot be less than n_splits=5.\n",
      "  % (min_groups, self.n_splits)), Warning)\n"
     ]
    },
    {
     "name": "stdout",
     "output_type": "stream",
     "text": [
      "[0.07692308 0.11111111 0.2        0.         0.        ]\n"
     ]
    },
    {
     "name": "stderr",
     "output_type": "stream",
     "text": [
      "/opt/anaconda3/lib/python3.7/site-packages/sklearn/model_selection/_split.py:657: Warning: The least populated class in y has only 1 members, which is too few. The minimum number of members in any class cannot be less than n_splits=5.\n",
      "  % (min_groups, self.n_splits)), Warning)\n"
     ]
    },
    {
     "name": "stdout",
     "output_type": "stream",
     "text": [
      "[0.         0.42857143 0.2        0.         0.        ]\n"
     ]
    },
    {
     "name": "stderr",
     "output_type": "stream",
     "text": [
      "/opt/anaconda3/lib/python3.7/site-packages/sklearn/model_selection/_split.py:657: Warning: The least populated class in y has only 2 members, which is too few. The minimum number of members in any class cannot be less than n_splits=5.\n",
      "  % (min_groups, self.n_splits)), Warning)\n"
     ]
    },
    {
     "name": "stdout",
     "output_type": "stream",
     "text": [
      "[0.05882353 0.13333333 0.25       0.27272727 0.11111111]\n"
     ]
    },
    {
     "name": "stderr",
     "output_type": "stream",
     "text": [
      "/opt/anaconda3/lib/python3.7/site-packages/sklearn/model_selection/_split.py:657: Warning: The least populated class in y has only 1 members, which is too few. The minimum number of members in any class cannot be less than n_splits=5.\n",
      "  % (min_groups, self.n_splits)), Warning)\n"
     ]
    },
    {
     "name": "stdout",
     "output_type": "stream",
     "text": [
      "[0.07692308 0.2        0.28571429 0.         0.        ]\n"
     ]
    },
    {
     "name": "stderr",
     "output_type": "stream",
     "text": [
      "/opt/anaconda3/lib/python3.7/site-packages/sklearn/model_selection/_split.py:657: Warning: The least populated class in y has only 1 members, which is too few. The minimum number of members in any class cannot be less than n_splits=5.\n",
      "  % (min_groups, self.n_splits)), Warning)\n"
     ]
    },
    {
     "name": "stdout",
     "output_type": "stream",
     "text": [
      "[0.         0.         0.1        0.11111111 0.28571429]\n"
     ]
    },
    {
     "name": "stderr",
     "output_type": "stream",
     "text": [
      "/opt/anaconda3/lib/python3.7/site-packages/sklearn/model_selection/_split.py:657: Warning: The least populated class in y has only 1 members, which is too few. The minimum number of members in any class cannot be less than n_splits=5.\n",
      "  % (min_groups, self.n_splits)), Warning)\n"
     ]
    },
    {
     "name": "stdout",
     "output_type": "stream",
     "text": [
      "[0.1 0.  0.  1.  0. ]\n"
     ]
    },
    {
     "name": "stderr",
     "output_type": "stream",
     "text": [
      "/opt/anaconda3/lib/python3.7/site-packages/sklearn/model_selection/_split.py:657: Warning: The least populated class in y has only 1 members, which is too few. The minimum number of members in any class cannot be less than n_splits=5.\n",
      "  % (min_groups, self.n_splits)), Warning)\n"
     ]
    },
    {
     "name": "stdout",
     "output_type": "stream",
     "text": [
      "[0.25       0.2        0.125      0.25       0.14285714]\n"
     ]
    },
    {
     "name": "stderr",
     "output_type": "stream",
     "text": [
      "/opt/anaconda3/lib/python3.7/site-packages/sklearn/model_selection/_split.py:657: Warning: The least populated class in y has only 3 members, which is too few. The minimum number of members in any class cannot be less than n_splits=5.\n",
      "  % (min_groups, self.n_splits)), Warning)\n"
     ]
    },
    {
     "name": "stdout",
     "output_type": "stream",
     "text": [
      "[0.25       0.33333333 0.18181818 0.11111111 0.2       ]\n"
     ]
    },
    {
     "name": "stderr",
     "output_type": "stream",
     "text": [
      "/opt/anaconda3/lib/python3.7/site-packages/sklearn/model_selection/_split.py:657: Warning: The least populated class in y has only 1 members, which is too few. The minimum number of members in any class cannot be less than n_splits=5.\n",
      "  % (min_groups, self.n_splits)), Warning)\n"
     ]
    },
    {
     "name": "stdout",
     "output_type": "stream",
     "text": [
      "[0.08333333 0.11111111 0.16666667 0.33333333 0.33333333]\n"
     ]
    },
    {
     "name": "stderr",
     "output_type": "stream",
     "text": [
      "/opt/anaconda3/lib/python3.7/site-packages/sklearn/model_selection/_split.py:657: Warning: The least populated class in y has only 1 members, which is too few. The minimum number of members in any class cannot be less than n_splits=5.\n",
      "  % (min_groups, self.n_splits)), Warning)\n"
     ]
    },
    {
     "name": "stdout",
     "output_type": "stream",
     "text": [
      "[0.23076923 0.125      0.33333333 0.5        1.        ]\n"
     ]
    },
    {
     "name": "stderr",
     "output_type": "stream",
     "text": [
      "/opt/anaconda3/lib/python3.7/site-packages/sklearn/model_selection/_split.py:657: Warning: The least populated class in y has only 1 members, which is too few. The minimum number of members in any class cannot be less than n_splits=5.\n",
      "  % (min_groups, self.n_splits)), Warning)\n"
     ]
    },
    {
     "name": "stdout",
     "output_type": "stream",
     "text": [
      "[0.15384615 0.         0.         0.         0.        ]\n"
     ]
    },
    {
     "name": "stderr",
     "output_type": "stream",
     "text": [
      "/opt/anaconda3/lib/python3.7/site-packages/sklearn/model_selection/_split.py:657: Warning: The least populated class in y has only 1 members, which is too few. The minimum number of members in any class cannot be less than n_splits=5.\n",
      "  % (min_groups, self.n_splits)), Warning)\n"
     ]
    },
    {
     "name": "stdout",
     "output_type": "stream",
     "text": [
      "[0.10526316 0.21428571 0.09090909 0.         0.14285714]\n"
     ]
    },
    {
     "name": "stderr",
     "output_type": "stream",
     "text": [
      "/opt/anaconda3/lib/python3.7/site-packages/sklearn/model_selection/_split.py:657: Warning: The least populated class in y has only 1 members, which is too few. The minimum number of members in any class cannot be less than n_splits=5.\n",
      "  % (min_groups, self.n_splits)), Warning)\n"
     ]
    },
    {
     "name": "stdout",
     "output_type": "stream",
     "text": [
      "[0.25       0.         0.11111111 0.         0.11111111]\n"
     ]
    },
    {
     "name": "stderr",
     "output_type": "stream",
     "text": [
      "/opt/anaconda3/lib/python3.7/site-packages/sklearn/model_selection/_split.py:657: Warning: The least populated class in y has only 1 members, which is too few. The minimum number of members in any class cannot be less than n_splits=5.\n",
      "  % (min_groups, self.n_splits)), Warning)\n"
     ]
    },
    {
     "name": "stdout",
     "output_type": "stream",
     "text": [
      "[0. 0. 0. 0. 0.]\n"
     ]
    },
    {
     "name": "stderr",
     "output_type": "stream",
     "text": [
      "/opt/anaconda3/lib/python3.7/site-packages/sklearn/model_selection/_split.py:657: Warning: The least populated class in y has only 1 members, which is too few. The minimum number of members in any class cannot be less than n_splits=5.\n",
      "  % (min_groups, self.n_splits)), Warning)\n"
     ]
    },
    {
     "name": "stdout",
     "output_type": "stream",
     "text": [
      "[0.15384615 0.11111111 0.125      0.         0.33333333]\n"
     ]
    },
    {
     "name": "stderr",
     "output_type": "stream",
     "text": [
      "/opt/anaconda3/lib/python3.7/site-packages/sklearn/model_selection/_split.py:657: Warning: The least populated class in y has only 1 members, which is too few. The minimum number of members in any class cannot be less than n_splits=5.\n",
      "  % (min_groups, self.n_splits)), Warning)\n"
     ]
    },
    {
     "name": "stdout",
     "output_type": "stream",
     "text": [
      "[0.18181818 0.         0.         0.         0.        ]\n"
     ]
    },
    {
     "name": "stderr",
     "output_type": "stream",
     "text": [
      "/opt/anaconda3/lib/python3.7/site-packages/sklearn/model_selection/_split.py:657: Warning: The least populated class in y has only 1 members, which is too few. The minimum number of members in any class cannot be less than n_splits=5.\n",
      "  % (min_groups, self.n_splits)), Warning)\n"
     ]
    },
    {
     "name": "stdout",
     "output_type": "stream",
     "text": [
      "[0.11764706 0.         0.         0.28571429 0.2       ]\n"
     ]
    },
    {
     "name": "stderr",
     "output_type": "stream",
     "text": [
      "/opt/anaconda3/lib/python3.7/site-packages/sklearn/model_selection/_split.py:657: Warning: The least populated class in y has only 1 members, which is too few. The minimum number of members in any class cannot be less than n_splits=5.\n",
      "  % (min_groups, self.n_splits)), Warning)\n"
     ]
    },
    {
     "name": "stdout",
     "output_type": "stream",
     "text": [
      "[0.2        0.         0.33333333 0.5        0.        ]\n"
     ]
    },
    {
     "data": {
      "image/png": "[encoded data removed]",
      "text/plain": [
       "<Figure size 432x288 with 1 Axes>"
      ]
     },
     "metadata": {
      "needs_background": "light"
     },
     "output_type": "display_data"
    }
   ],
   "source": [
    "rankings = rankings()"
   ]
  },
  {
   "cell_type": "code",
   "execution_count": 54,
   "metadata": {},
   "outputs": [],
   "source": [
    "#Using sensor ranking data, this function returns histogram plots to show the distribution of feature importances.\n",
    "def plot_ranking(sensor_rankings): \n",
    "    \n",
    "    rank_df = pd.DataFrame(rankings)\n",
    "    # Since the original rank_df has rankings as rows and students as columns, we take the transpose.\n",
    "    #The transpose dataframe will have rankings as columns and uids as each row.\n",
    "    rank_df = rank_df.transpose()\n",
    "    \n",
    "    # make the plot with two subplot\n",
    "    fig, (ax1, ax2) = plt.subplots(1, 2, figsize = (40, 10)) \n",
    "    # first subplot\n",
    "    #This subplot returns a plot of the distribution of feature importances:\n",
    "        #Returns how many students have a particular feature as their most important feature.\n",
    "    ax1.hist(rank_df[0], rwidth = 0.75)\n",
    "    ax1.set_ylabel('number of users')\n",
    "    ax1.set_title('most important sensor for predicting daily PAM (by user)')\n",
    "    \n",
    "    # second subplot\n",
    "    #This subplot returns a plot of the distribution of least important features:\n",
    "        #Returns the amount of students for whom a particular feature is the least important.\n",
    "    ax2.hist(rank_df[8], rwidth=0.75)\n",
    "    ax2.set_ylabel('number of users')\n",
    "    ax2.xaxis.label.set_fontsize(15)\n",
    "    ax2.set_title('least important sensor for predicting daily PAM (by user)')\n",
    "    \n",
    "    for label in ax1.get_xticklabels() + ax2.get_xticklabels():\n",
    "        label.set_fontsize(12)\n",
    "        \n",
    "    for label in ax1.get_yticklabels() + ax2.get_yticklabels():\n",
    "        label.set_fontsize(15)\n",
    "    \n",
    "    rank_df.columns = ['first', 'second', 'third', 'fourth', 'fifth', 'sixth', 'seventh', 'eighth', 'ninth']\n",
    "    \n",
    "    return rank_df"
   ]
  },
  {
   "cell_type": "code",
   "execution_count": 55,
   "metadata": {},
   "outputs": [],
   "source": [
    "#This function plots the feature importance distribution.\n",
    "def compile_clustering_features(): \n",
    "\n",
    "    rankings_df = plot_ranking(rankings)\n",
    "    rankings_df['id'] = rankings_df.index\n",
    "    \n",
    "    features_df = rankings_df    \n",
    "    \n",
    "    return features_df"
   ]
  },
  {
   "cell_type": "code",
   "execution_count": 56,
   "metadata": {},
   "outputs": [
    {
     "data": {
      "image/png": "[encoded data removed]",
      "text/plain": [
       "<Figure size 2880x720 with 2 Axes>"
      ]
     },
     "metadata": {
      "needs_background": "light"
     },
     "output_type": "display_data"
    }
   ],
   "source": [
    "compiled_features = compile_clustering_features()"
   ]
  },
  {
   "cell_type": "code",
   "execution_count": null,
   "metadata": {},
   "outputs": [],
   "source": [
    "# All the following survey processing code is adapted from the notebook \"Survey Dataset V2\" \n",
    "# This is adapted from another student's code.\n",
    "\n",
    "# This function processes perceived stress scale (pre and post) surveys \n",
    "\n",
    "def pss_analysis(pss_survey):\n",
    "    \"\"\"\n",
    "    Consolidates the  block of code necessary to generate the PSS survey visualizations for\n",
    "    added modularity of notebook. Running it on the raw PSS data prepares the graphs related\n",
    "    to this piece of the dataset.\n",
    "    \n",
    "    @param: pss_survey – raw data for PSS survey, obtained by using pandas' read_csv method\n",
    "    \n",
    "    returns: returns remodeled dataframes for the pre- and post-study halves of the original dataframe\n",
    "             as a tuple for integrated visualizations with other studies. \n",
    "             Prepares graphs for PSS survey visualization.\n",
    "             plt.show() should be run outside of function call for visualization\n",
    "    \"\"\"\n",
    "    pre_pss = pss_survey[pss_survey.type == 'pre'].drop('type', axis=1)\n",
    "    post_pss = pss_survey[pss_survey.type == 'post'].drop('type', axis=1)\n",
    "\n",
    "    def remodel_columns_pss(data):\n",
    "        \"\"\"\n",
    "        Replaces the wordy columns for indices q1-q10. Since PSS\n",
    "        is standardized, all questions follow the same order and\n",
    "        can be referred to by indices for simplification.\n",
    "\n",
    "        @param: data – dataframe containing PSS survey data\n",
    "\n",
    "        returns: modified dataframe with q1-q10 indexed columns\n",
    "        \"\"\"\n",
    "        index_dict = {}\n",
    "        for ind in range(data.shape[1]):\n",
    "            index_dict[data.columns[ind]] = f\"q{ind + 1}\"\n",
    "\n",
    "        data = data.rename(columns=index_dict)\n",
    "        return data\n",
    "\n",
    "\n",
    "    def numerify_data_pss(entry):\n",
    "        \"\"\"\n",
    "        Replaces string response for corresponding value 0-4.\n",
    "\n",
    "        @param: dataframe entry containing PSS survey answer\n",
    "\n",
    "        returns: value 0-4 replacing str answer\n",
    "           \"\"\"\n",
    "        if entry == 'Never':\n",
    "            return 0\n",
    "        if entry == 'Almost never':\n",
    "            return 1\n",
    "        if entry == 'Sometime':\n",
    "            return 2\n",
    "        if entry == 'Fairly often':\n",
    "            return 3\n",
    "        if entry == 'Very often':\n",
    "            return 4\n",
    "        return entry\n",
    "\n",
    "    def remodel_data_pss(data):\n",
    "        \"\"\"\n",
    "        Combines functionalities of remodel_columns_pss and numerify_data_pss\n",
    "        for each entry, offering a dataframe more suitable for analysis. Also\n",
    "        adds the test score for each student as a new column.\n",
    "\n",
    "        @param: data – dataframe containing PSS survey data\n",
    "\n",
    "        returns: modified dataframe with q1-q10 indexed columns and values 0-4\n",
    "        replacing original str answers in q1-q10, with new columns 'score'\n",
    "        with each student's test score\n",
    "        \"\"\"\n",
    "        data = remodel_columns_pss(data)\n",
    "        data = data.applymap(numerify_data_pss)\n",
    "        # Reverse scoring for particular questions\n",
    "        for question in {'q4', 'q5', 'q7', 'q8'}:\n",
    "            data[question] = data[question].apply(lambda x: 4 - x)\n",
    "        data['score'] = data.sum(axis=1, numeric_only=True)\n",
    "        data['id'] = data.index\n",
    "        return data\n",
    "\n",
    "    pre_pss_m = remodel_data_pss(pre_pss)\n",
    "    post_pss_m = remodel_data_pss(post_pss)\n",
    "\n",
    "    return pre_pss_m, post_pss_m"
   ]
  },
  {
   "cell_type": "code",
   "execution_count": null,
   "metadata": {},
   "outputs": [],
   "source": [
    "# All the following loneliness survey processing code is adapted from the notebook \"Survey Dataset V2\" \n",
    "# This is adapted from another student's code.\n",
    "\n",
    "# This function processes loneliness scale (pre and post) surveys \n",
    "\n",
    "def lonely_analysis(lonely):\n",
    "    \"\"\"\n",
    "    Consolidates the  block of code necessary to generate the Loneliness survey visualizations for\n",
    "    added modularity of notebook. Running it on the raw Loneliness data prepares the graphs related\n",
    "    to this piece of the dataset.\n",
    "    \n",
    "    @param: lonely – raw data for Loneliness survey, obtained by using pandas' read_csv method\n",
    "    \n",
    "    returns: returns remodeled dataframes for the pre- and post-study halves of the original dataframe\n",
    "             as a tuple for integrated visualizations with other studies. \n",
    "             Prepares graphs for Loneliness survey visualization.\n",
    "             plt.show() should be run outside of function call for visualization\n",
    "    \"\"\"\n",
    "    pre_lonely = lonely[lonely.type == 'pre'].drop('type', axis=1)\n",
    "    post_lonely = lonely[lonely.type == 'post'].drop('type', axis=1)\n",
    "\n",
    "    def remodel_columns_lonely(data):\n",
    "        \"\"\"\n",
    "        Replaces the wordy columns for indices q1-q20. Since LonelinessScale\n",
    "        is standardized, all questions follow the same order and\n",
    "        can be referred to by indices for simplification.\n",
    "\n",
    "        @param: data – dataframe containing PSS survey data\n",
    "\n",
    "        returns: modified dataframe with q1-q20 indexed columns\n",
    "        \"\"\"\n",
    "        index_dict = {}\n",
    "        for ind in range(data.shape[1]):\n",
    "            index_dict[data.columns[ind]] = f\"q{ind + 1}\"\n",
    "\n",
    "        data = data.rename(columns=index_dict)\n",
    "        return data\n",
    "\n",
    "\n",
    "    def numerify_data_lonely(entry):\n",
    "        \"\"\"\n",
    "        Replaces string response for corresponding value 1-4.\n",
    "\n",
    "        @param: dataframe entry containing LonelinessScale survey answer\n",
    "\n",
    "        returns: value 1-4 replacing str answer\n",
    "        \"\"\"\n",
    "        if entry == 'Never':\n",
    "            return 1\n",
    "        if entry == 'Rarely':\n",
    "            return 2\n",
    "        if entry == 'Sometimes':\n",
    "            return 3\n",
    "        if entry == 'Often':\n",
    "            return 4\n",
    "        return entry\n",
    "\n",
    "    def remodel_data_lonely(data):\n",
    "        \"\"\"\n",
    "        Combines functionalities of remodel_columns_lonely and numerify_data_lonely\n",
    "        for each entry, offering a dataframe more suitable for analysis. Also\n",
    "        adds the test score for each student as a new column.\n",
    "\n",
    "        @param: data – dataframe containing PSS survey data\n",
    "\n",
    "        returns: modified dataframe with q1-q20 indexed columns and values 1-4\n",
    "        replacing original str answers in q1-q20, with new column 'score'\n",
    "        with each student's test score\n",
    "        \"\"\"\n",
    "        data = remodel_columns_lonely(data)\n",
    "        data = data.applymap(numerify_data_lonely)\n",
    "        for question in {'q1', 'q5', 'q6', 'q9', 'q10',\n",
    "                         'q15', 'q16', 'q19', 'q20'}:\n",
    "            data[question] = data[question].apply(lambda x: 5 - x)\n",
    "        data['score'] = data.sum(axis=1, numeric_only=True)\n",
    "        data['id'] = data.index\n",
    "        return data\n",
    "\n",
    "    pre_lonely_m = remodel_data_lonely(pre_lonely)\n",
    "    post_lonely_m = remodel_data_lonely(post_lonely)\n",
    "    \n",
    "    return pre_lonely_m, post_lonely_m"
   ]
  },
  {
   "cell_type": "code",
   "execution_count": null,
   "metadata": {},
   "outputs": [],
   "source": [
    "# This function is modeled off of another student's survey anaylsis code as shown above.\n",
    "# This function returns processed PHQ-9 survey (pre and post) results.\n",
    "def depression_analysis(phq9):\n",
    "    \"\"\"\n",
    "    Consolidates the  block of code necessary to generate the Loneliness survey visualizations for\n",
    "    added modularity of notebook. Running it on the raw Loneliness data prepares the graphs related\n",
    "    to this piece of the dataset.\n",
    "    \n",
    "    @param: lonely – raw data for Loneliness survey, obtained by using pandas' read_csv method\n",
    "    \n",
    "    returns: returns remodeled dataframes for the pre- and post-study halves of the original dataframe\n",
    "             as a tuple for integrated visualizations with other studies. \n",
    "             Prepares graphs for Loneliness survey visualization.\n",
    "             plt.show() should be run outside of function call for visualization\n",
    "    \"\"\"\n",
    "    pre_phq9 = phq9[phq9.type == 'pre'].drop('type', axis=1)\n",
    "    post_phq9 = phq9[phq9.type == 'post'].drop('type', axis=1)\n",
    "\n",
    "    def remodel_columns_phq9(data):\n",
    "        \"\"\"\n",
    "        Replaces the wordy columns for indices q1-q20. Since LonelinessScale\n",
    "        is standardized, all questions follow the same order and\n",
    "        can be referred to by indices for simplification.\n",
    "\n",
    "        @param: data – dataframe containing PSS survey data\n",
    "\n",
    "        returns: modified dataframe with q1-q20 indexed columns\n",
    "        \"\"\"\n",
    "        index_dict = {}\n",
    "        for ind in range(data.shape[1]):\n",
    "            index_dict[data.columns[ind]] = f\"q{ind + 1}\"\n",
    "\n",
    "        data = data.rename(columns=index_dict)\n",
    "        return data\n",
    "\n",
    "\n",
    "    def numerify_data_phq9(entry):\n",
    "        \"\"\"\n",
    "        Replaces string response for corresponding value 1-4.\n",
    "\n",
    "        @param: dataframe entry containing LonelinessScale survey answer\n",
    "\n",
    "        returns: value 1-4 replacing str answer\n",
    "        \"\"\"\n",
    "        if response == 'Not at all':\n",
    "            return 0\n",
    "        elif response == 'More than half the days':\n",
    "            return 2\n",
    "        elif response == 'Several days':\n",
    "            return 1\n",
    "        elif response == 'Nearly every day':\n",
    "            return 3\n",
    "        #else:\n",
    "        return response\n",
    "\n",
    "    def remodel_data_phq9(data):\n",
    "        \"\"\"\n",
    "        Combines functionalities of remodel_columns_lonely and numerify_data_lonely\n",
    "        for each entry, offering a dataframe more suitable for analysis. Also\n",
    "        adds the test score for each student as a new column.\n",
    "\n",
    "        @param: data – dataframe containing PSS survey data\n",
    "\n",
    "        returns: modified dataframe with q1-q20 indexed columns and values 1-4\n",
    "        replacing original str answers in q1-q20, with new column 'score'\n",
    "        with each student's test score\n",
    "        \"\"\"\n",
    "        data = remodel_columns_lonely(data)\n",
    "        data = data.applymap(numerify_data_lonely)\n",
    "        #for question in {'q1', 'q5', 'q6', 'q9', 'q10',\n",
    "                        # 'q15', 'q16', 'q19', 'q20'}:\n",
    "            #data[question] = data[question].apply(lambda x: 5 - x)\n",
    "        data['score'] = data.sum(axis=0, numeric_only=True)\n",
    "        data['id'] = data.index\n",
    "        return data\n",
    "\n",
    "    pre_phq9_m = remodel_data_phq9(pre_phq9)\n",
    "    post_phq9_m = remodel_data_phq9(post_phq9)\n",
    "    \n",
    "    return pre_phq9_m, post_phq9_m"
   ]
  },
  {
   "cell_type": "code",
   "execution_count": null,
   "metadata": {},
   "outputs": [],
   "source": [
    "# While I was able to plot feature importances for PAM and was able to return histogram\n",
    "# distributions of feature importance, I did not try to cluster students based off of survey data (i.e. PHQ-9 or loneliness)\n",
    "# to try and identify any patterns among students.\n",
    "\n",
    "# I also did not check model performance before proceeding with feature importance, and it's something I hope to incorporate for next week.\n",
    "# Finally, I only used two classifying algorithms: GradientBoosting and RandomForest.\n",
    "# I hope to use more algorithms and aggregate their feature importance distribution results."
   ]
  }
 ],
 "metadata": {
  "kernelspec": {
   "display_name": "Python 3",
   "language": "python",
   "name": "python3"
  },
  "language_info": {
   "codemirror_mode": {
    "name": "ipython",
    "version": 3
   },
   "file_extension": ".py",
   "mimetype": "text/x-python",
   "name": "python",
   "nbconvert_exporter": "python",
   "pygments_lexer": "ipython3",
   "version": "3.7.4"
  }
 },
 "nbformat": 4,
 "nbformat_minor": 4
}
