{
 "cells": [
  {
   "cell_type": "code",
   "execution_count": 1,
   "metadata": {},
   "outputs": [],
   "source": [
    "%matplotlib inline\n",
    "import numpy as np\n",
    "import pandas as pd\n",
    "import matplotlib.pyplot as plt\n",
    "import seaborn as sns\n",
    "from numpy import *\n",
    "import glob\n",
    "import scipy \n",
    "from datetime import datetime as dt\n",
    "import sklearn\n",
    "sns.style = 'darkgrid'"
   ]
  },
  {
   "cell_type": "code",
   "execution_count": 2,
   "metadata": {},
   "outputs": [],
   "source": [
    "positive_affect = pd.read_json('dataset/EMA/response/PAM/PAM_u00.json')"
   ]
  },
  {
   "cell_type": "code",
   "execution_count": 3,
   "metadata": {},
   "outputs": [
    {
     "data": {
      "text/html": [
       "<div>\n",
       "<style scoped>\n",
       "    .dataframe tbody tr th:only-of-type {\n",
       "        vertical-align: middle;\n",
       "    }\n",
       "\n",
       "    .dataframe tbody tr th {\n",
       "        vertical-align: top;\n",
       "    }\n",
       "\n",
       "    .dataframe thead th {\n",
       "        text-align: right;\n",
       "    }\n",
       "</style>\n",
       "<table border=\"1\" class=\"dataframe\">\n",
       "  <thead>\n",
       "    <tr style=\"text-align: right;\">\n",
       "      <th></th>\n",
       "      <th>picture_idx</th>\n",
       "      <th>resp_time</th>\n",
       "    </tr>\n",
       "  </thead>\n",
       "  <tbody>\n",
       "    <tr>\n",
       "      <th>0</th>\n",
       "      <td>7</td>\n",
       "      <td>2013-03-24 08:45:48</td>\n",
       "    </tr>\n",
       "    <tr>\n",
       "      <th>1</th>\n",
       "      <td>11</td>\n",
       "      <td>2013-03-24 20:15:56</td>\n",
       "    </tr>\n",
       "    <tr>\n",
       "      <th>2</th>\n",
       "      <td>7</td>\n",
       "      <td>2013-03-24 08:40:30</td>\n",
       "    </tr>\n",
       "    <tr>\n",
       "      <th>3</th>\n",
       "      <td>8</td>\n",
       "      <td>2013-03-24 08:45:42</td>\n",
       "    </tr>\n",
       "    <tr>\n",
       "      <th>4</th>\n",
       "      <td>7</td>\n",
       "      <td>2013-03-26 02:21:15</td>\n",
       "    </tr>\n",
       "    <tr>\n",
       "      <th>...</th>\n",
       "      <td>...</td>\n",
       "      <td>...</td>\n",
       "    </tr>\n",
       "    <tr>\n",
       "      <th>385</th>\n",
       "      <td>7</td>\n",
       "      <td>2013-06-06 05:35:39</td>\n",
       "    </tr>\n",
       "    <tr>\n",
       "      <th>386</th>\n",
       "      <td>7</td>\n",
       "      <td>2013-06-07 19:46:18</td>\n",
       "    </tr>\n",
       "    <tr>\n",
       "      <th>387</th>\n",
       "      <td>10</td>\n",
       "      <td>2013-06-26 23:09:43</td>\n",
       "    </tr>\n",
       "    <tr>\n",
       "      <th>388</th>\n",
       "      <td>7</td>\n",
       "      <td>2013-06-26 23:18:04</td>\n",
       "    </tr>\n",
       "    <tr>\n",
       "      <th>389</th>\n",
       "      <td>7</td>\n",
       "      <td>2013-07-13 23:47:02</td>\n",
       "    </tr>\n",
       "  </tbody>\n",
       "</table>\n",
       "<p>390 rows × 2 columns</p>\n",
       "</div>"
      ],
      "text/plain": [
       "     picture_idx           resp_time\n",
       "0              7 2013-03-24 08:45:48\n",
       "1             11 2013-03-24 20:15:56\n",
       "2              7 2013-03-24 08:40:30\n",
       "3              8 2013-03-24 08:45:42\n",
       "4              7 2013-03-26 02:21:15\n",
       "..           ...                 ...\n",
       "385            7 2013-06-06 05:35:39\n",
       "386            7 2013-06-07 19:46:18\n",
       "387           10 2013-06-26 23:09:43\n",
       "388            7 2013-06-26 23:18:04\n",
       "389            7 2013-07-13 23:47:02\n",
       "\n",
       "[390 rows x 2 columns]"
      ]
     },
     "execution_count": 3,
     "metadata": {},
     "output_type": "execute_result"
    }
   ],
   "source": [
    "positive_affect"
   ]
  },
  {
   "cell_type": "code",
   "execution_count": 4,
   "metadata": {},
   "outputs": [],
   "source": [
    "def combine_daily_emas(ema_name): \n",
    "    \"\"\"\n",
    "    input: ema_name -- name of the ema we're looking at\n",
    "    output: dataframe containing the data from the desired ema compiled for all uids\n",
    "    \"\"\"\n",
    "    # list of all the desired ema's \n",
    "    all_emas = glob.glob('dataset/EMA/response/' + ema_name + '/' + ema_name +'_*.json')\n",
    "    # index to start the uid\n",
    "    uid_start = len('dataset/EMA/response/' + ema_name + '/' + ema_name +'_')\n",
    "    # this is where we'll compile the data\n",
    "    total_ema_data = pd.DataFrame()\n",
    "    # loops through all the ema data\n",
    "    for ema in all_emas: \n",
    "        # the uid is the three characters starting at uid_start index\n",
    "        uid = ema[uid_start:uid_start + 3]\n",
    "        # read the data\n",
    "        ema_data = pd.read_json(ema)\n",
    "        # keep track of day and day of week\n",
    "        try:\n",
    "            ema_data['doy'] = ema_data['resp_time'].dt.dayofyear \n",
    "            ema_data['day of week'] = ema_data['resp_time'].dt.dayofweek\n",
    "            ema_data = ema_data.groupby('doy').mean()\n",
    "            ema_data['day'] = ema_data.index\n",
    "        except:\n",
    "            # in this case there is an empty dataframe for this uid\n",
    "            continue\n",
    "        \n",
    "        # keep track of uids\n",
    "        ema_data['uid'] = uid\n",
    "        \n",
    "        # compile the data\n",
    "        total_ema_data = total_ema_data.append(ema_data)\n",
    "\n",
    "    return total_ema_data    "
   ]
  },
  {
   "cell_type": "code",
   "execution_count": 5,
   "metadata": {},
   "outputs": [],
   "source": [
    "def merge_EMA(EMA_list): \n",
    "    \"\"\"\n",
    "    input: EMA_list -- contains a list of tuples, each tuple containing the name of an EMA and the name of a desired column\n",
    "    in that EMA.\n",
    "    output: a dataframe combining all those EMA's for every user. \n",
    "    \"\"\"\n",
    "    initialized = False\n",
    "    for tup in EMA_list: \n",
    "        ema = tup[0]\n",
    "        col = tup[1]\n",
    "        ema_for_all_students = combine_daily_emas(ema)\n",
    "        \n",
    "        relevant_columns = ema_for_all_students[[col, 'day', 'day of week', 'uid']]\n",
    "        \n",
    "        if initialized is False: \n",
    "            initialized = True\n",
    "            overall_merge = relevant_columns\n",
    "        else: \n",
    "            overall_merge = overall_merge.merge(relevant_columns, on = ['day', 'day of week', 'uid'], how = 'inner')\n",
    "    \n",
    "    return overall_merge"
   ]
  },
  {
   "cell_type": "code",
   "execution_count": 170,
   "metadata": {},
   "outputs": [],
   "source": [
    "def most_responded_emas():\n",
    "    \"\"\"\n",
    "    output:  dictionary of (ema name: number of responses) where each key is an ema and the value is the number \n",
    "    of days it was responded to \n",
    "    \"\"\"\n",
    "    ema_lengths = {}\n",
    "    for file in glob.glob('dataset/EMA/response/*'): \n",
    "        ema = file[len('dataset/EMA/response/'):]\n",
    "        total_emas = combine_daily_emas(ema)\n",
    "        # number of days the ema was responded to \n",
    "        ema_lengths[ema] = total_emas.shape[0]\n",
    "        # this will give us the number of students responding to the ema on each day\n",
    "        if ema_lengths[ema] > 500: \n",
    "            daily_emas = total_emas.groupby('day').count()\n",
    "    \n",
    "            plt.bar(daily_emas.index, daily_emas['uid'])\n",
    "            plt.xlabel('day of the year')\n",
    "            plt.ylabel('number of students who responded')\n",
    "            plt.title(ema + ' responses over time')\n",
    "            plt.show()\n",
    "        \n",
    "    return ema_lengths"
   ]
  },
  {
   "cell_type": "code",
   "execution_count": 171,
   "metadata": {},
   "outputs": [
    {
     "data": {
      "image/png": "[encoded data removed]",
      "text/plain": [
       "<Figure size 432x288 with 1 Axes>"
      ]
     },
     "metadata": {
      "needs_background": "light"
     },
     "output_type": "display_data"
    },
    {
     "data": {
      "image/png": "[encoded data removed]",
      "text/plain": [
       "<Figure size 432x288 with 1 Axes>"
      ]
     },
     "metadata": {
      "needs_background": "light"
     },
     "output_type": "display_data"
    },
    {
     "data": {
      "image/png": "[encoded data removed]",
      "text/plain": [
       "<Figure size 432x288 with 1 Axes>"
      ]
     },
     "metadata": {
      "needs_background": "light"
     },
     "output_type": "display_data"
    },
    {
     "data": {
      "image/png": "[encoded data removed]",
      "text/plain": [
       "<Figure size 432x288 with 1 Axes>"
      ]
     },
     "metadata": {
      "needs_background": "light"
     },
     "output_type": "display_data"
    },
    {
     "data": {
      "image/png": "[encoded data removed]",
      "text/plain": [
       "<Figure size 432x288 with 1 Axes>"
      ]
     },
     "metadata": {
      "needs_background": "light"
     },
     "output_type": "display_data"
    },
    {
     "data": {
      "image/png": "[encoded data removed]",
      "text/plain": [
       "<Figure size 432x288 with 1 Axes>"
      ]
     },
     "metadata": {
      "needs_background": "light"
     },
     "output_type": "display_data"
    },
    {
     "data": {
      "image/png": "[encoded data removed]",
      "text/plain": [
       "<Figure size 432x288 with 1 Axes>"
      ]
     },
     "metadata": {
      "needs_background": "light"
     },
     "output_type": "display_data"
    },
    {
     "data": {
      "image/png": "[encoded data removed]",
      "text/plain": [
       "<Figure size 432x288 with 1 Axes>"
      ]
     },
     "metadata": {
      "needs_background": "light"
     },
     "output_type": "display_data"
    },
    {
     "data": {
      "text/plain": [
       "{'Activity': 703,\n",
       " \"Administration's response\": 33,\n",
       " 'Behavior': 554,\n",
       " 'Boston Bombing': 14,\n",
       " 'Cancelled Classes': 34,\n",
       " 'Class': 724,\n",
       " 'Class 2': 88,\n",
       " 'Comment': 403,\n",
       " 'Dartmouth now': 27,\n",
       " 'Dimensions': 25,\n",
       " 'Dimensions protestors': 24,\n",
       " 'Dining Halls': 194,\n",
       " 'Events': 218,\n",
       " 'Exercise': 686,\n",
       " 'Green Key 1': 29,\n",
       " 'Green Key 2': 25,\n",
       " 'Lab': 134,\n",
       " 'Mood': 213,\n",
       " 'Mood 1': 230,\n",
       " 'Mood 2': 339,\n",
       " 'PAM': 2296,\n",
       " 'QR_Code': 0,\n",
       " 'Sleep': 1251,\n",
       " 'Social': 1031,\n",
       " 'Stress': 1292,\n",
       " 'Study Spaces': 286}"
      ]
     },
     "execution_count": 171,
     "metadata": {},
     "output_type": "execute_result"
    }
   ],
   "source": [
    "most_responded_emas()"
   ]
  },
  {
   "cell_type": "code",
   "execution_count": 8,
   "metadata": {},
   "outputs": [],
   "source": [
    "mood_and_PAM = merge_EMA([('PAM', 'picture_idx'), ('stress', 'level'), ('social', 'number')])"
   ]
  },
  {
   "cell_type": "code",
   "execution_count": 9,
   "metadata": {},
   "outputs": [
    {
     "data": {
      "text/html": [
       "<div>\n",
       "<style scoped>\n",
       "    .dataframe tbody tr th:only-of-type {\n",
       "        vertical-align: middle;\n",
       "    }\n",
       "\n",
       "    .dataframe tbody tr th {\n",
       "        vertical-align: top;\n",
       "    }\n",
       "\n",
       "    .dataframe thead th {\n",
       "        text-align: right;\n",
       "    }\n",
       "</style>\n",
       "<table border=\"1\" class=\"dataframe\">\n",
       "  <thead>\n",
       "    <tr style=\"text-align: right;\">\n",
       "      <th></th>\n",
       "      <th>picture_idx</th>\n",
       "      <th>day</th>\n",
       "      <th>day of week</th>\n",
       "      <th>uid</th>\n",
       "      <th>level</th>\n",
       "      <th>number</th>\n",
       "      <th>weekend</th>\n",
       "    </tr>\n",
       "  </thead>\n",
       "  <tbody>\n",
       "    <tr>\n",
       "      <th>22</th>\n",
       "      <td>7.500000</td>\n",
       "      <td>86</td>\n",
       "      <td>2.0</td>\n",
       "      <td>u01</td>\n",
       "      <td>4.0</td>\n",
       "      <td>3.333333</td>\n",
       "      <td>False</td>\n",
       "    </tr>\n",
       "    <tr>\n",
       "      <th>23</th>\n",
       "      <td>12.750000</td>\n",
       "      <td>88</td>\n",
       "      <td>4.0</td>\n",
       "      <td>u01</td>\n",
       "      <td>1.0</td>\n",
       "      <td>4.000000</td>\n",
       "      <td>False</td>\n",
       "    </tr>\n",
       "    <tr>\n",
       "      <th>24</th>\n",
       "      <td>9.600000</td>\n",
       "      <td>89</td>\n",
       "      <td>5.0</td>\n",
       "      <td>u01</td>\n",
       "      <td>3.0</td>\n",
       "      <td>3.000000</td>\n",
       "      <td>True</td>\n",
       "    </tr>\n",
       "    <tr>\n",
       "      <th>25</th>\n",
       "      <td>11.333333</td>\n",
       "      <td>90</td>\n",
       "      <td>6.0</td>\n",
       "      <td>u01</td>\n",
       "      <td>1.0</td>\n",
       "      <td>4.000000</td>\n",
       "      <td>True</td>\n",
       "    </tr>\n",
       "    <tr>\n",
       "      <th>26</th>\n",
       "      <td>11.500000</td>\n",
       "      <td>93</td>\n",
       "      <td>2.0</td>\n",
       "      <td>u01</td>\n",
       "      <td>1.0</td>\n",
       "      <td>2.000000</td>\n",
       "      <td>False</td>\n",
       "    </tr>\n",
       "    <tr>\n",
       "      <th>27</th>\n",
       "      <td>10.333333</td>\n",
       "      <td>95</td>\n",
       "      <td>4.0</td>\n",
       "      <td>u01</td>\n",
       "      <td>4.0</td>\n",
       "      <td>4.000000</td>\n",
       "      <td>False</td>\n",
       "    </tr>\n",
       "    <tr>\n",
       "      <th>28</th>\n",
       "      <td>10.500000</td>\n",
       "      <td>96</td>\n",
       "      <td>5.0</td>\n",
       "      <td>u01</td>\n",
       "      <td>4.5</td>\n",
       "      <td>4.000000</td>\n",
       "      <td>True</td>\n",
       "    </tr>\n",
       "    <tr>\n",
       "      <th>29</th>\n",
       "      <td>13.666667</td>\n",
       "      <td>97</td>\n",
       "      <td>6.0</td>\n",
       "      <td>u01</td>\n",
       "      <td>1.0</td>\n",
       "      <td>3.000000</td>\n",
       "      <td>True</td>\n",
       "    </tr>\n",
       "    <tr>\n",
       "      <th>30</th>\n",
       "      <td>9.400000</td>\n",
       "      <td>100</td>\n",
       "      <td>2.0</td>\n",
       "      <td>u01</td>\n",
       "      <td>1.5</td>\n",
       "      <td>3.000000</td>\n",
       "      <td>False</td>\n",
       "    </tr>\n",
       "    <tr>\n",
       "      <th>31</th>\n",
       "      <td>8.000000</td>\n",
       "      <td>102</td>\n",
       "      <td>4.0</td>\n",
       "      <td>u01</td>\n",
       "      <td>1.0</td>\n",
       "      <td>2.000000</td>\n",
       "      <td>False</td>\n",
       "    </tr>\n",
       "    <tr>\n",
       "      <th>32</th>\n",
       "      <td>9.000000</td>\n",
       "      <td>106</td>\n",
       "      <td>1.0</td>\n",
       "      <td>u01</td>\n",
       "      <td>1.0</td>\n",
       "      <td>4.000000</td>\n",
       "      <td>False</td>\n",
       "    </tr>\n",
       "    <tr>\n",
       "      <th>33</th>\n",
       "      <td>6.500000</td>\n",
       "      <td>107</td>\n",
       "      <td>2.0</td>\n",
       "      <td>u01</td>\n",
       "      <td>1.0</td>\n",
       "      <td>4.000000</td>\n",
       "      <td>False</td>\n",
       "    </tr>\n",
       "    <tr>\n",
       "      <th>34</th>\n",
       "      <td>12.000000</td>\n",
       "      <td>109</td>\n",
       "      <td>4.0</td>\n",
       "      <td>u01</td>\n",
       "      <td>4.0</td>\n",
       "      <td>4.000000</td>\n",
       "      <td>False</td>\n",
       "    </tr>\n",
       "  </tbody>\n",
       "</table>\n",
       "</div>"
      ],
      "text/plain": [
       "    picture_idx  day  day of week  uid  level    number  weekend\n",
       "22     7.500000   86          2.0  u01    4.0  3.333333    False\n",
       "23    12.750000   88          4.0  u01    1.0  4.000000    False\n",
       "24     9.600000   89          5.0  u01    3.0  3.000000     True\n",
       "25    11.333333   90          6.0  u01    1.0  4.000000     True\n",
       "26    11.500000   93          2.0  u01    1.0  2.000000    False\n",
       "27    10.333333   95          4.0  u01    4.0  4.000000    False\n",
       "28    10.500000   96          5.0  u01    4.5  4.000000     True\n",
       "29    13.666667   97          6.0  u01    1.0  3.000000     True\n",
       "30     9.400000  100          2.0  u01    1.5  3.000000    False\n",
       "31     8.000000  102          4.0  u01    1.0  2.000000    False\n",
       "32     9.000000  106          1.0  u01    1.0  4.000000    False\n",
       "33     6.500000  107          2.0  u01    1.0  4.000000    False\n",
       "34    12.000000  109          4.0  u01    4.0  4.000000    False"
      ]
     },
     "execution_count": 9,
     "metadata": {},
     "output_type": "execute_result"
    }
   ],
   "source": [
    "mood_and_PAM = mood_and_PAM.dropna()\n",
    "mood_and_PAM['weekend'] = mood_and_PAM['day of week'] > 4\n",
    "mood_and_PAM_u00 = mood_and_PAM[mood_and_PAM['uid'] == 'u01']\n",
    "mood_and_PAM_u00"
   ]
  },
  {
   "cell_type": "code",
   "execution_count": 10,
   "metadata": {},
   "outputs": [],
   "source": [
    "from sklearn.decomposition import PCA\n",
    "def plot_pca(EMA_df, feature_columns, target_column):\n",
    "    \"\"\"\n",
    "    given input features plots a principal component analysis (first two components)\n",
    "    \"\"\"\n",
    "    # keep the first two principal components of the data\n",
    "    features = EMA_df[feature_columns].values\n",
    "    pca = PCA(n_components=2)\n",
    "    pg_transformed = pca.fit_transform(features)\n",
    "    pg_df = pd.DataFrame(data = pg_transformed, columns = ['PC_1', 'PC_2'])\n",
    "    \n",
    "    # print relevant results\n",
    "    print(\"features: \", feature_columns)\n",
    "    print(\"component 1 weights: \", pca.components_[0])\n",
    "    print(\"component 2 weights: \", pca.components_[1])\n",
    "    print(\"variance explained: \", pca.explained_variance_ratio_)\n",
    "    \n",
    "    # make a plot of the principal components\n",
    "    fig = plt.figure()\n",
    "    ax = fig.add_subplot(111)\n",
    "    ax.scatter(pg_transformed[:,0][EMA_df[target_column] == True], \n",
    "               pg_transformed[:,1][EMA_df[target_column] == True], \n",
    "               label = target_column ,marker ='o')\n",
    "    \n",
    "    ax.scatter(pg_transformed[:,0][EMA_df[target_column] == False], \n",
    "               pg_transformed[:,1][EMA_df[target_column] == False], \n",
    "               label = 'not {}'.format(target_column), marker = 'x')\n",
    "    \n",
    "    plt.legend(loc='upper right')\n",
    "    plt.xlabel('Principal Component 1')\n",
    "    plt.ylabel('Principal Component 2')\n",
    "    \n",
    "    return pg_transformed"
   ]
  },
  {
   "cell_type": "code",
   "execution_count": 11,
   "metadata": {},
   "outputs": [],
   "source": [
    "def convert_stress(level):\n",
    "    \"\"\"\n",
    "    converts input stress level from the scale above into a more usable scale with 1 being feeling great \n",
    "    and 5 being stressed out.\n",
    "    \"\"\"\n",
    "    # little stress = 3/5 stressed\n",
    "    if level == 1: \n",
    "        return 3\n",
    "    # definitely stressed = 4/5\n",
    "    if level == 2:\n",
    "        return 4\n",
    "    # stressed out = 5/5\n",
    "    if level == 3:\n",
    "        return 5\n",
    "    # feeling good = 2/5\n",
    "    if level == 4: \n",
    "        return 2\n",
    "    # feeling great = 1/5 \n",
    "    if level == 5:\n",
    "        return 1\n",
    "    else:\n",
    "        return 0"
   ]
  },
  {
   "cell_type": "code",
   "execution_count": 174,
   "metadata": {},
   "outputs": [],
   "source": [
    "from sklearn.ensemble import RandomForestClassifier\n",
    "from sklearn.model_selection import train_test_split, cross_val_score, LeaveOneOut\n",
    "\n",
    "def random_forest_importance(features, target, features_names, plot): \n",
    "    \"\"\"\n",
    "    input: features: features of the machine learning model\n",
    "           target: labels for the machine learning model\n",
    "           features_names: the name of each feature column \n",
    "           plot: boolean, if True, plot the important features\n",
    "    given input features and targets (labels), a random forest model is created to find the importance of each feature to \n",
    "    the target. Plots these outcomes. \n",
    "    \"\"\"\n",
    "    n_features = features.shape[1]\n",
    "    # just from some guess and check, it seems that using 500 estimators greatly reduces the random element of the \n",
    "    # classifier\n",
    "    model = RandomForestClassifier(n_estimators = 500)\n",
    "    model.fit(features, target)\n",
    "    if plot is True: \n",
    "        # to determine if the model is better than random chance(i.e. our important features are actually important),\n",
    "        # we can check with a cross validation score.\n",
    "        print('average cross validation score: {:.2f}'.format(cross_val_score(RandomForestClassifier(n_estimators = 500),\n",
    "                                                                              features, target, cv = 5).mean()))\n",
    "        plot_feature_importance(n_features, features_names, model.feature_importances_)\n",
    "    return model.feature_importances_"
   ]
  },
  {
   "cell_type": "code",
   "execution_count": 13,
   "metadata": {},
   "outputs": [],
   "source": [
    "def plot_feature_importance(n_features, features_names, feature_importance): \n",
    "    \"\"\"\n",
    "    input: n_features: number of features\n",
    "           features_names: names of features\n",
    "           feature_importance: the importance of each feature\n",
    "    makes a bar plot showing the importance of each feature. \n",
    "    \"\"\"\n",
    "    plt.barh(range(n_features), feature_importance, align='center')\n",
    "    plt.yticks(np.arange(n_features), features_names)\n",
    "    plt.xlabel('feature importance')"
   ]
  },
  {
   "cell_type": "code",
   "execution_count": 14,
   "metadata": {},
   "outputs": [],
   "source": [
    "from sklearn.svm import LinearSVC\n",
    "from sklearn.pipeline import make_pipeline\n",
    "from sklearn.preprocessing import StandardScaler\n",
    "\n",
    "def svc_importance(features, target, features_names, plot):\n",
    "    \"\"\"\n",
    "    input: features: features of the machine learning model\n",
    "           target: labels for the machine learning model\n",
    "           features_names: the name of each feature column \n",
    "           plot: boolean, if True, plot the important features\n",
    "    given input features and targets (labels), a LinearSVC model is created to find the importance of each feature to \n",
    "    the target. Plots these outcomes. \n",
    "    \"\"\"\n",
    "    \n",
    "    clf = make_pipeline(StandardScaler(), LinearSVC())\n",
    "    \n",
    "    clf.fit(features, target)\n",
    "        \n",
    "    return clf.named_steps['linearsvc'].coef_\n",
    "    "
   ]
  },
  {
   "cell_type": "code",
   "execution_count": 15,
   "metadata": {},
   "outputs": [],
   "source": [
    "def process_stress_ema(uid): \n",
    "    \"\"\"\n",
    "    input: uid for which we want to process the stress EMA\n",
    "    \"\"\"\n",
    "    stress = pd.read_json('dataset/EMA/response/stress/Stress_' + uid + '.json')\n",
    "    stress = stress[['location', 'resp_time', 'level']]\n",
    "    stress = stress.dropna()\n",
    "    stress['level'] = stress['level'].apply(convert_stress)\n",
    "    stress['day'] = stress['resp_time'].dt.dayofyear\n",
    "    stress = stress.groupby('day').mean()\n",
    "    # since stress levels are discrete, we want to take the nearest overall stress level for the day \n",
    "    stress = stress.apply(lambda x: round(x))\n",
    "    stress['doy'] = stress.index\n",
    "    \n",
    "    return stress"
   ]
  },
  {
   "cell_type": "code",
   "execution_count": 16,
   "metadata": {},
   "outputs": [],
   "source": [
    "def process_stress_ema_remove_null(uid): \n",
    "    \"\"\"\n",
    "    input: uid for which we want to process the stress EMA\n",
    "    \"\"\"\n",
    "    stress = pd.read_json('dataset/EMA/response/stress/Stress_' + uid + '.json')\n",
    "    try: \n",
    "        stress['level'] = stress['level'].where(np.isfinite, stress.null)\n",
    "    except: \n",
    "        pass\n",
    "    \n",
    "    stress['level'] = pd.to_numeric(stress.level, errors='coerce')\n",
    "    \n",
    "    stress = stress[['resp_time', 'level']]\n",
    "    stress = stress.dropna()\n",
    "    \n",
    "    stress['level'] = stress['level'].apply(convert_stress)\n",
    "    stress['day'] = stress['resp_time'].dt.dayofyear\n",
    "    stress = stress.groupby('day').mean()\n",
    "    # since stress levels are discrete, we want to take the nearest overall stress level for the day \n",
    "    stress = stress.apply(lambda x: round(x))\n",
    "    stress['doy'] = stress.index\n",
    "    \n",
    "    return stress"
   ]
  },
  {
   "cell_type": "code",
   "execution_count": 17,
   "metadata": {},
   "outputs": [
    {
     "data": {
      "text/html": [
       "<div>\n",
       "<style scoped>\n",
       "    .dataframe tbody tr th:only-of-type {\n",
       "        vertical-align: middle;\n",
       "    }\n",
       "\n",
       "    .dataframe tbody tr th {\n",
       "        vertical-align: top;\n",
       "    }\n",
       "\n",
       "    .dataframe thead th {\n",
       "        text-align: right;\n",
       "    }\n",
       "</style>\n",
       "<table border=\"1\" class=\"dataframe\">\n",
       "  <thead>\n",
       "    <tr style=\"text-align: right;\">\n",
       "      <th></th>\n",
       "      <th>level</th>\n",
       "      <th>doy</th>\n",
       "    </tr>\n",
       "    <tr>\n",
       "      <th>day</th>\n",
       "      <th></th>\n",
       "      <th></th>\n",
       "    </tr>\n",
       "  </thead>\n",
       "  <tbody>\n",
       "    <tr>\n",
       "      <th>86</th>\n",
       "      <td>2.0</td>\n",
       "      <td>86</td>\n",
       "    </tr>\n",
       "    <tr>\n",
       "      <th>87</th>\n",
       "      <td>2.0</td>\n",
       "      <td>87</td>\n",
       "    </tr>\n",
       "    <tr>\n",
       "      <th>88</th>\n",
       "      <td>2.0</td>\n",
       "      <td>88</td>\n",
       "    </tr>\n",
       "    <tr>\n",
       "      <th>90</th>\n",
       "      <td>1.0</td>\n",
       "      <td>90</td>\n",
       "    </tr>\n",
       "    <tr>\n",
       "      <th>92</th>\n",
       "      <td>3.0</td>\n",
       "      <td>92</td>\n",
       "    </tr>\n",
       "  </tbody>\n",
       "</table>\n",
       "</div>"
      ],
      "text/plain": [
       "     level  doy\n",
       "day            \n",
       "86     2.0   86\n",
       "87     2.0   87\n",
       "88     2.0   88\n",
       "90     1.0   90\n",
       "92     3.0   92"
      ]
     },
     "execution_count": 17,
     "metadata": {},
     "output_type": "execute_result"
    }
   ],
   "source": [
    "process_stress_ema('u57').head()"
   ]
  },
  {
   "cell_type": "code",
   "execution_count": 18,
   "metadata": {},
   "outputs": [
    {
     "data": {
      "text/html": [
       "<div>\n",
       "<style scoped>\n",
       "    .dataframe tbody tr th:only-of-type {\n",
       "        vertical-align: middle;\n",
       "    }\n",
       "\n",
       "    .dataframe tbody tr th {\n",
       "        vertical-align: top;\n",
       "    }\n",
       "\n",
       "    .dataframe thead th {\n",
       "        text-align: right;\n",
       "    }\n",
       "</style>\n",
       "<table border=\"1\" class=\"dataframe\">\n",
       "  <thead>\n",
       "    <tr style=\"text-align: right;\">\n",
       "      <th></th>\n",
       "      <th>level</th>\n",
       "      <th>doy</th>\n",
       "    </tr>\n",
       "    <tr>\n",
       "      <th>day</th>\n",
       "      <th></th>\n",
       "      <th></th>\n",
       "    </tr>\n",
       "  </thead>\n",
       "  <tbody>\n",
       "    <tr>\n",
       "      <th>86</th>\n",
       "      <td>2.0</td>\n",
       "      <td>86</td>\n",
       "    </tr>\n",
       "    <tr>\n",
       "      <th>87</th>\n",
       "      <td>2.0</td>\n",
       "      <td>87</td>\n",
       "    </tr>\n",
       "    <tr>\n",
       "      <th>88</th>\n",
       "      <td>2.0</td>\n",
       "      <td>88</td>\n",
       "    </tr>\n",
       "    <tr>\n",
       "      <th>90</th>\n",
       "      <td>1.0</td>\n",
       "      <td>90</td>\n",
       "    </tr>\n",
       "    <tr>\n",
       "      <th>92</th>\n",
       "      <td>3.0</td>\n",
       "      <td>92</td>\n",
       "    </tr>\n",
       "  </tbody>\n",
       "</table>\n",
       "</div>"
      ],
      "text/plain": [
       "     level  doy\n",
       "day            \n",
       "86     2.0   86\n",
       "87     2.0   87\n",
       "88     2.0   88\n",
       "90     1.0   90\n",
       "92     3.0   92"
      ]
     },
     "execution_count": 18,
     "metadata": {},
     "output_type": "execute_result"
    }
   ],
   "source": [
    "process_stress_ema_remove_null('u57').head()"
   ]
  },
  {
   "cell_type": "code",
   "execution_count": 19,
   "metadata": {},
   "outputs": [],
   "source": [
    "def stress_feature_importance(uid, plot = False): \n",
    "    \"\"\"\n",
    "    ranks the feature importance of five different sensors: activity inference, conversation duration, \n",
    "    bluetooth colocations, darkness, and location variance based on how important they are at predicting stress for a \n",
    "    given day. \n",
    "    \"\"\"\n",
    "    stress = process_stress_ema_remove_null(uid)\n",
    "    \n",
    "    # compiling features (sensors) and grouping them all by day. \n",
    "    activity = pd.read_csv('dataset/sensing/activity/activity_' + uid + '.csv')\n",
    "    activity['day'] = pd.to_datetime(activity['timestamp'], unit = 's').dt.dayofyear\n",
    "    daily_activity = activity.groupby('day').mean()\n",
    "    \n",
    "    conversation = pd.read_csv('dataset/sensing/conversation/conversation_' + uid + '.csv')\n",
    "    conversation['day'] = pd.to_datetime(conversation['start_timestamp'], unit = 's').dt.dayofyear\n",
    "    conversation['convo duration'] = conversation[' end_timestamp'] - conversation['start_timestamp']\n",
    "    conversation = conversation.groupby('day').sum()\n",
    "    \n",
    "    bluetooth = pd.read_csv('dataset/sensing/bluetooth/bt_' + uid + '.csv')\n",
    "    bluetooth['day'] = pd.to_datetime(bluetooth['time'], unit = 's').dt.dayofyear\n",
    "    bluetooth = bluetooth.groupby('day').count()\n",
    "    bluetooth['number colocations'] = bluetooth['time']\n",
    "        \n",
    "    darkness = pd.read_csv('dataset/sensing/dark/dark_' + uid + '.csv')\n",
    "    darkness['day'] = pd.to_datetime(darkness['start'], unit = 's').dt.dayofyear\n",
    "    darkness['dark duration'] = darkness['end'] - darkness['start']\n",
    "    darkness = darkness.groupby('day').sum()\n",
    "    \n",
    "    wifi_locations = pd.read_csv('dataset/sensing/wifi_location/wifi_location_' + uid + '.csv')\n",
    "    wifi_locations.reset_index(inplace = True)\n",
    "    wifi_locations.columns = (\"timestamp\", \"location\", \"null\")\n",
    "    wifi_locations = wifi_locations.drop(\"null\", 1)\n",
    "    wifi_locations['day'] = pd.to_datetime(wifi_locations['timestamp'], unit = 's').dt.dayofyear\n",
    "    wifi_locations = pd.DataFrame(wifi_locations.groupby('day')['location'].unique())\n",
    "    wifi_locations['unique locations'] = wifi_locations['location'].apply(lambda x: len(x))\n",
    "    \n",
    "    \n",
    "    features_list = [(daily_activity, ' activity inference'), (conversation, 'convo duration'), \n",
    "                     (darkness, 'dark duration'), (bluetooth, 'number colocations'), \n",
    "                     (wifi_locations, 'unique locations')]\n",
    "    \n",
    "    # merge all the sensors with stress to create a feature dataframe \n",
    "    data = stress\n",
    "    for feat in features_list: \n",
    "        data = data.merge(feat[0][[feat[1]]], \n",
    "                                left_on = 'doy', right_on = 'day', how = 'inner')\n",
    "        \n",
    "    #print('dataframe size: {}'.format(data.shape))\n",
    "    \n",
    "    # take only large data, with a size of 20 or greater\n",
    "    if data.shape[0] < 20: \n",
    "        return None\n",
    "    \n",
    "    features_names = [' activity inference', 'convo duration', 'dark duration',\n",
    "                     'number colocations', 'unique locations']\n",
    "    # create numpy arrays to represent features and targets\n",
    "    features = data[features_names].values\n",
    "    \n",
    "    target = data['level'].values\n",
    "    \n",
    "    # this is where we calculate feature importance\n",
    "    feat_import = random_forest_importance(features, target, features_names, plot)\n",
    "    \n",
    "    #svc_feat_import = svc_importance(features, target, features_names)\n",
    "    \n",
    "    return feat_import, features_names"
   ]
  },
  {
   "cell_type": "code",
   "execution_count": 188,
   "metadata": {},
   "outputs": [
    {
     "name": "stderr",
     "output_type": "stream",
     "text": [
      "C:\\Users\\Lowell\\Anaconda3\\lib\\site-packages\\sklearn\\model_selection\\_split.py:667: UserWarning: The least populated class in y has only 1 members, which is less than n_splits=5.\n",
      "  % (min_groups, self.n_splits)), UserWarning)\n"
     ]
    },
    {
     "name": "stdout",
     "output_type": "stream",
     "text": [
      "average cross validation score: 0.50\n"
     ]
    },
    {
     "data": {
      "image/png": "[encoded data removed]",
      "text/plain": [
       "<Figure size 432x288 with 1 Axes>"
      ]
     },
     "metadata": {
      "needs_background": "light"
     },
     "output_type": "display_data"
    }
   ],
   "source": [
    "test = stress_feature_importance('u01', True)"
   ]
  },
  {
   "cell_type": "code",
   "execution_count": 21,
   "metadata": {},
   "outputs": [],
   "source": [
    "def compile_feat_imports(): \n",
    "    \"\"\"\n",
    "    returns the overall feature imports of stress files\n",
    "    \"\"\"\n",
    "    stress_files = glob.glob('dataset/EMA/response/stress/Stress_*.json')\n",
    "    uid_start = len('dataset/EMA/response/stress/Stress_')\n",
    "    counter = 1\n",
    "    # loops through all the files and averages the feature importance lists\n",
    "    for file in stress_files: \n",
    "        # the uid indexed from the file text\n",
    "        uid = file[uid_start:uid_start+3]\n",
    "        \n",
    "        try:\n",
    "            importance = stress_feature_importance(uid, False)\n",
    "        except: \n",
    "            # in the case where the above fails, there was no data in the user's ema file, so we skip that user. \n",
    "            continue \n",
    "        \n",
    "        if importance is None:\n",
    "            continue \n",
    "        \n",
    "        if counter == 1: \n",
    "            uid_feature_importance = stress_feature_importance(uid, False)[0]\n",
    "        else: \n",
    "            uid_feature_importance = (uid_feature_importance*(counter - 1) +\n",
    "                                          stress_feature_importance(uid, False)[0])/counter\n",
    "        counter += 1\n",
    "        \n",
    "    return uid_feature_importance"
   ]
  },
  {
   "cell_type": "code",
   "execution_count": 22,
   "metadata": {},
   "outputs": [
    {
     "data": {
      "text/plain": [
       "array([0.20157315, 0.19908863, 0.2036291 , 0.21910445, 0.17660466])"
      ]
     },
     "execution_count": 22,
     "metadata": {},
     "output_type": "execute_result"
    }
   ],
   "source": [
    "compile_feat_imports()"
   ]
  },
  {
   "cell_type": "markdown",
   "metadata": {},
   "source": [
    "As you can see, there isn't much variation overall with regard to feature importance, but variation still exists within each user, so we'll look more into that. "
   ]
  },
  {
   "cell_type": "code",
   "execution_count": 23,
   "metadata": {},
   "outputs": [],
   "source": [
    "def rank_sensors(): \n",
    "    \"\"\"\n",
    "    loops through all the stress files and returns a dictionary mapping each user id to a list containing the ranking \n",
    "    of its sensor features from greatest to least\n",
    "    \"\"\"\n",
    "    stress_files = glob.glob('dataset/EMA/response/stress/Stress_*.json')\n",
    "    uid_start = len('dataset/EMA/response/stress/Stress_')\n",
    "    counter = 1\n",
    "    # this dictionary will keep track of the most important sensor for each user. \n",
    "    most_imp_dict = {}\n",
    "    # loops through all the files and averages the feature importance lists\n",
    "    for file in stress_files: \n",
    "        # the uid indexed from the file text\n",
    "        uid = file[uid_start:uid_start+3]\n",
    "        # find feature importance\n",
    "        try:\n",
    "            res = stress_feature_importance(uid, False)\n",
    "        except:\n",
    "            print(uid)\n",
    "            continue\n",
    "        if res is None: \n",
    "            continue\n",
    "        feat_imp = res[0]\n",
    "        sensors = res[1]\n",
    "        # reorder the features here\n",
    "        most_imp_dict[uid] = order(feat_imp, sensors)\n",
    "        \n",
    "    return most_imp_dict"
   ]
  },
  {
   "cell_type": "code",
   "execution_count": 24,
   "metadata": {},
   "outputs": [],
   "source": [
    "def order(feat_imp, sensors): \n",
    "    \"\"\"\n",
    "    inputs: feat_imp -- array containing the importance of each sensor\n",
    "            sensors -- the sensor corresponding to each element in the array\n",
    "    \"\"\"\n",
    "    # sort from least to greatest\n",
    "    sorty = np.sort(feat_imp)\n",
    "    \n",
    "    # make a dictionary where the key is the feature importance and the value is the sensor \n",
    "    # im making the assumption that no two keys will be the same since there are not many sensors and \n",
    "    # accuracy is to many decimals. \n",
    "    sorty_dict = {}\n",
    "    for i in range(len(feat_imp)): \n",
    "        sorty_dict[feat_imp[i]] = sensors[i]\n",
    "    \n",
    "    # make a sorted sensors list using the dictionary\n",
    "    sorted_sensors = []\n",
    "    for elem in sorty: \n",
    "        sorted_sensors.append(sorty_dict[elem])\n",
    "    \n",
    "    # reverse so the order is most important to least important sensor\n",
    "    sorted_sensors.reverse()\n",
    "    \n",
    "    return sorted_sensors"
   ]
  },
  {
   "cell_type": "code",
   "execution_count": 25,
   "metadata": {},
   "outputs": [
    {
     "name": "stdout",
     "output_type": "stream",
     "text": [
      "u13\n"
     ]
    }
   ],
   "source": [
    "rankings = rank_sensors()"
   ]
  },
  {
   "cell_type": "code",
   "execution_count": 26,
   "metadata": {},
   "outputs": [],
   "source": [
    "def plot_ranking(sensor_rankings): \n",
    "    \"\"\"\n",
    "    input: sensor_rankings -- dictionary containing uids mapping to ranking sensor importance\n",
    "    plots histograms displaying the count of the users for which sensors are the highest or lowest ranked\n",
    "    \"\"\"\n",
    "    rank_df = pd.DataFrame(rankings)\n",
    "    # this dataframe will have rankings as columns and uids as each row\n",
    "    rank_df = rank_df.transpose()\n",
    "    \n",
    "    # make the plot with two subplots\n",
    "    fig, (ax1, ax2) = plt.subplots(1, 2, figsize = (20, 7)) \n",
    "    # first subplot\n",
    "    ax1.hist(rank_df[0])\n",
    "    ax1.set_ylabel('number of users')\n",
    "    ax1.set_title('most important sensor for predicting daily stress (by user)')\n",
    "    \n",
    "    # second subplot\n",
    "    ax2.hist(rank_df[4])\n",
    "    ax2.set_ylabel('number of users')\n",
    "    ax2.xaxis.label.set_fontsize(15)\n",
    "    ax2.set_title('least important sensor for predicting daily stress (by user)')\n",
    "    \n",
    "    for label in ax1.get_xticklabels() + ax2.get_xticklabels():\n",
    "        label.set_fontsize(12)\n",
    "        \n",
    "    for label in ax1.get_yticklabels() + ax2.get_yticklabels():\n",
    "        label.set_fontsize(15)\n",
    "        \n",
    "    #for ax in ax1, ax2: \n",
    "    #    ax.set_xticks([i for i in range(6)])\n",
    "    #    ax.set_xticklabels([' activity inference', 'convo duration', 'dark duration',\n",
    "    #                     'number colocations', 'unique locations'])\n",
    "    \n",
    "    rank_df.columns = ['first', 'second', 'third', 'fourth', 'fifth']\n",
    "    \n",
    "    return rank_df"
   ]
  },
  {
   "cell_type": "code",
   "execution_count": 27,
   "metadata": {},
   "outputs": [],
   "source": [
    "###All the following survey processing code is adapted from the notebook \"Survey Dataset V2\" \n",
    "### which was written by another student\n",
    "\n",
    "### This function processes perceived stress scale\n",
    "\n",
    "def pss_analysis(pss_survey):\n",
    "    \"\"\"\n",
    "    Consolidates the  block of code necessary to generate the PSS survey visualizations for\n",
    "    added modularity of notebook. Running it on the raw PSS data prepares the graphs related\n",
    "    to this piece of the dataset.\n",
    "    \n",
    "    @param: pss_survey – raw data for PSS survey, obtained by using pandas' read_csv method\n",
    "    \n",
    "    returns: returns remodeled dataframes for the pre- and post-study halves of the original dataframe\n",
    "             as a tuple for integrated visualizations with other studies. \n",
    "             Prepares graphs for PSS survey visualization.\n",
    "             plt.show() should be run outside of function call for visualization\n",
    "    \"\"\"\n",
    "    pre_pss = pss_survey[pss_survey.type == 'pre'].drop('type', axis=1)\n",
    "    post_pss = pss_survey[pss_survey.type == 'post'].drop('type', axis=1)\n",
    "\n",
    "    def remodel_columns_pss(data):\n",
    "        \"\"\"\n",
    "        Replaces the wordy columns for indices q1-q10. Since PSS\n",
    "        is standardized, all questions follow the same order and\n",
    "        can be referred to by indices for simplification.\n",
    "\n",
    "        @param: data – dataframe containing PSS survey data\n",
    "\n",
    "        returns: modified dataframe with q1-q10 indexed columns\n",
    "        \"\"\"\n",
    "        index_dict = {}\n",
    "        for ind in range(data.shape[1]):\n",
    "            index_dict[data.columns[ind]] = f\"q{ind + 1}\"\n",
    "\n",
    "        data = data.rename(columns=index_dict)\n",
    "        return data\n",
    "\n",
    "\n",
    "    def numerify_data_pss(entry):\n",
    "        \"\"\"\n",
    "        Replaces string response for corresponding value 0-4.\n",
    "\n",
    "        @param: dataframe entry containing PSS survey answer\n",
    "\n",
    "        returns: value 0-4 replacing str answer\n",
    "        \"\"\"\n",
    "        if entry == 'Never':\n",
    "            return 0\n",
    "        if entry == 'Almost never':\n",
    "            return 1\n",
    "        if entry == 'Sometime':\n",
    "            return 2\n",
    "        if entry == 'Fairly often':\n",
    "            return 3\n",
    "        if entry == 'Very often':\n",
    "            return 4\n",
    "        return entry\n",
    "\n",
    "    def remodel_data_pss(data):\n",
    "        \"\"\"\n",
    "        Combines functionalities of remodel_columns_pss and numerify_data_pss\n",
    "        for each entry, offering a dataframe more suitable for analysis. Also\n",
    "        adds the test score for each student as a new column.\n",
    "\n",
    "        @param: data – dataframe containing PSS survey data\n",
    "\n",
    "        returns: modified dataframe with q1-q10 indexed columns and values 0-4\n",
    "        replacing original str answers in q1-q10, with new columns 'score'\n",
    "        with each student's test score\n",
    "        \"\"\"\n",
    "        data = remodel_columns_pss(data)\n",
    "        data = data.applymap(numerify_data_pss)\n",
    "        # Reverse scoring for particular questions\n",
    "        for question in {'q4', 'q5', 'q7', 'q8'}:\n",
    "            data[question] = data[question].apply(lambda x: 4 - x)\n",
    "        data['score'] = data.sum(axis=1, numeric_only=True)\n",
    "        data['id'] = data.index\n",
    "        return data\n",
    "\n",
    "    pre_pss_m = remodel_data_pss(pre_pss)\n",
    "    post_pss_m = remodel_data_pss(post_pss)\n",
    "\n",
    "    return pre_pss_m, post_pss_m"
   ]
  },
  {
   "cell_type": "code",
   "execution_count": 28,
   "metadata": {},
   "outputs": [],
   "source": [
    "### Loneliness Scale Survey Data Treatment. Also adapted from the other student's notebook\n",
    "\n",
    "def lonely_analysis(lonely):\n",
    "    \"\"\"\n",
    "    Consolidates the  block of code necessary to generate the Loneliness survey visualizations for\n",
    "    added modularity of notebook. Running it on the raw Loneliness data prepares the graphs related\n",
    "    to this piece of the dataset.\n",
    "    \n",
    "    @param: lonely – raw data for Loneliness survey, obtained by using pandas' read_csv method\n",
    "    \n",
    "    returns: returns remodeled dataframes for the pre- and post-study halves of the original dataframe\n",
    "             as a tuple for integrated visualizations with other studies. \n",
    "             Prepares graphs for Loneliness survey visualization.\n",
    "             plt.show() should be run outside of function call for visualization\n",
    "    \"\"\"\n",
    "    pre_lonely = lonely[lonely.type == 'pre'].drop('type', axis=1)\n",
    "    post_lonely = lonely[lonely.type == 'post'].drop('type', axis=1)\n",
    "\n",
    "    def remodel_columns_lonely(data):\n",
    "        \"\"\"\n",
    "        Replaces the wordy columns for indices q1-q20. Since LonelinessScale\n",
    "        is standardized, all questions follow the same order and\n",
    "        can be referred to by indices for simplification.\n",
    "\n",
    "        @param: data – dataframe containing PSS survey data\n",
    "\n",
    "        returns: modified dataframe with q1-q20 indexed columns\n",
    "        \"\"\"\n",
    "        index_dict = {}\n",
    "        for ind in range(data.shape[1]):\n",
    "            index_dict[data.columns[ind]] = f\"q{ind + 1}\"\n",
    "\n",
    "        data = data.rename(columns=index_dict)\n",
    "        return data\n",
    "\n",
    "\n",
    "    def numerify_data_lonely(entry):\n",
    "        \"\"\"\n",
    "        Replaces string response for corresponding value 1-4.\n",
    "\n",
    "        @param: dataframe entry containing LonelinessScale survey answer\n",
    "\n",
    "        returns: value 1-4 replacing str answer\n",
    "        \"\"\"\n",
    "        if entry == 'Never':\n",
    "            return 1\n",
    "        if entry == 'Rarely':\n",
    "            return 2\n",
    "        if entry == 'Sometimes':\n",
    "            return 3\n",
    "        if entry == 'Often':\n",
    "            return 4\n",
    "        return entry\n",
    "\n",
    "    def remodel_data_lonely(data):\n",
    "        \"\"\"\n",
    "        Combines functionalities of remodel_columns_lonely and numerify_data_lonely\n",
    "        for each entry, offering a dataframe more suitable for analysis. Also\n",
    "        adds the test score for each student as a new column.\n",
    "\n",
    "        @param: data – dataframe containing PSS survey data\n",
    "\n",
    "        returns: modified dataframe with q1-q20 indexed columns and values 1-4\n",
    "        replacing original str answers in q1-q20, with new column 'score'\n",
    "        with each student's test score\n",
    "        \"\"\"\n",
    "        data = remodel_columns_lonely(data)\n",
    "        data = data.applymap(numerify_data_lonely)\n",
    "        for question in {'q1', 'q5', 'q6', 'q9', 'q10',\n",
    "                         'q15', 'q16', 'q19', 'q20'}:\n",
    "            data[question] = data[question].apply(lambda x: 5 - x)\n",
    "        data['score'] = data.sum(axis=1, numeric_only=True)\n",
    "        data['id'] = data.index\n",
    "        return data\n",
    "\n",
    "    pre_lonely_m = remodel_data_lonely(pre_lonely)\n",
    "    post_lonely_m = remodel_data_lonely(post_lonely)\n",
    "    \n",
    "    return pre_lonely_m, post_lonely_m"
   ]
  },
  {
   "cell_type": "code",
   "execution_count": 158,
   "metadata": {},
   "outputs": [],
   "source": [
    "### PHQ-9 Survey Data Treatment  \n",
    "\n",
    "def phq_analysis(phq_survey):\n",
    "    \"\"\"\n",
    "    Consolidates the  block of code necessary to generate the PHQ-9 survey visualizations for\n",
    "    added modularity of notebook. Running it on the raw PHQ-9 data prepares the graphs related\n",
    "    to this piece of the dataset.\n",
    "    \n",
    "    @param: phq_survey – raw data for PHQ-9 survey, obtained by using pandas' read_csv method\n",
    "    \n",
    "    returns: returns remodeled dataframes for the pre- and post-study halves of the\n",
    "             original dataframe as a tuple for integrated visualizations with other studies. \n",
    "    \"\"\"\n",
    "    pre_phq = phq_survey[phq_survey.type == 'pre'].drop('type', axis=1)\n",
    "    post_phq = phq_survey[phq_survey.type == 'post'].drop('type', axis=1)\n",
    "\n",
    "    def remodel_columns_phq(data):\n",
    "        \"\"\"\n",
    "        Replaces the wordy columns for indices q1-q10. Since PHQ-9\n",
    "        is standardized, all questions follow the same order and\n",
    "        can be referred to by indices for simplification.\n",
    "\n",
    "        @param: data – dataframe containing PHQ-9 survey data\n",
    "\n",
    "        returns: modified dataframe with q1-q10 indexed columns\n",
    "        \"\"\"\n",
    "        index_dict = {}\n",
    "        for ind in range(data.shape[1]):\n",
    "            index_dict[data.columns[ind]] = f\"q{ind + 1}\"\n",
    "\n",
    "        data = data.rename(columns=index_dict)\n",
    "        return data\n",
    "\n",
    "\n",
    "    def numerify_data_phq(entry):\n",
    "        \"\"\"\n",
    "        Replaces string response for corresponding value 0-3.\n",
    "\n",
    "        @param: entry – dataframe entry containing PHQ-9 survey answer\n",
    "\n",
    "        returns: value 0-3 replacing str answer; for q10, simply returns same\n",
    "        str entry (column q10 is not graded)\n",
    "        \"\"\"\n",
    "        if entry == 'Not at all':\n",
    "            return 0\n",
    "        if entry == 'Several days':\n",
    "            return 1\n",
    "        if entry == 'More than half the days':\n",
    "            return 2\n",
    "        if entry == 'Nearly every day':\n",
    "            return 3\n",
    "        return entry\n",
    "\n",
    "    def severity_analysis_phq(score):\n",
    "        \"\"\"\n",
    "        Classifies each student's score according to the PHQ-9 classification standard\n",
    "        \n",
    "        @param: data.score – 'score' column of dataframe\n",
    "        \n",
    "        returns: new column which can be assigned to new label 'severity_level'\n",
    "        \"\"\"\n",
    "        if score <= 4:\n",
    "            return 'normal'\n",
    "        if score <= 9:\n",
    "            return 'mild'\n",
    "        if score <= 14:\n",
    "            return 'moderate'\n",
    "        if score <= 19:\n",
    "            return 'moderately severe'\n",
    "        return 'severe'\n",
    "\n",
    "    def remodel_data_phq(data):\n",
    "        \"\"\"\n",
    "        Combines functionalities of remodel_columns_phq and numerify_data_phq\n",
    "        for each entry, offering a dataframe more suitable for analysis. Also\n",
    "        adds the test score for each student as a new column.\n",
    "\n",
    "        @param: data – dataframe containing PHQ-9 survey data\n",
    "\n",
    "        returns: modified dataframe with q1-q10 indexed columns and values 0-3\n",
    "        replacing original str answers in q1-q9, with new columns 'score' and\n",
    "        'severity_level' with each student's test score and classification.\n",
    "        \"\"\"\n",
    "        data = remodel_columns_phq(data)\n",
    "        data = data.applymap(numerify_data_phq)\n",
    "        data['score'] = data.sum(axis=1, numeric_only=True)\n",
    "        data['severity_level'] = data.score.apply(severity_analysis_phq)\n",
    "        data['id'] = data.index\n",
    "        return data\n",
    "\n",
    "    pre_phq_m = remodel_data_phq(pre_phq)\n",
    "    post_phq_m = remodel_data_phq(post_phq)\n",
    "\n",
    "    return pre_phq_m, post_phq_m"
   ]
  },
  {
   "cell_type": "code",
   "execution_count": 194,
   "metadata": {},
   "outputs": [],
   "source": [
    "def compile_clustering_features(): \n",
    "    \"\"\"\n",
    "    compiles a features dataframe consisting of most important sensors for stress along with scores from surveys at the \n",
    "    beginning of the term. \n",
    "    \"\"\"\n",
    "    rankings_df = plot_ranking(rankings)\n",
    "    rankings_df['id'] = rankings_df.index\n",
    "    \n",
    "    pss = pd.read_csv(\"dataset/survey/PerceivedStressScale.csv\", index_col=0)\n",
    "    prepss, postpss = pss_analysis(pss)\n",
    "    \n",
    "    loneliness = pd.read_csv(\"dataset/survey/LonelinessScale.csv\", index_col=0)\n",
    "    prelonely, postlonely = lonely_analysis(loneliness)\n",
    "    \n",
    "    phq = pd.read_csv(\"dataset/survey/PHQ-9.csv\", index_col=0)\n",
    "    pre_phq, post_phq = phq_analysis(phq)\n",
    "    \n",
    "    \n",
    "    survey_list = [(prepss, 'pss'), (prelonely, 'loneliness'), (pre_phq, 'phq')]\n",
    "    \n",
    "    features_df = rankings_df    \n",
    "    \n",
    "    for survey in survey_list:     \n",
    "        features_df = features_df.merge(survey[0][['score', 'id']], on = 'id', how = 'inner')\n",
    "        features_df = features_df.rename(columns = {'score': survey[1] + ' score'})\n",
    "    \n",
    "    return features_df"
   ]
  },
  {
   "cell_type": "code",
   "execution_count": 195,
   "metadata": {},
   "outputs": [
    {
     "data": {
      "image/png": "[encoded data removed]",
      "text/plain": [
       "<Figure size 1440x504 with 2 Axes>"
      ]
     },
     "metadata": {
      "needs_background": "light"
     },
     "output_type": "display_data"
    }
   ],
   "source": [
    "compiled_features = compile_clustering_features()"
   ]
  },
  {
   "cell_type": "code",
   "execution_count": 198,
   "metadata": {},
   "outputs": [],
   "source": [
    "from sklearn.cluster import AgglomerativeClustering\n",
    "\n",
    "def importance_clustering(compiled_features, n_clusters, desired_columns): \n",
    "    \"\"\"\n",
    "    inputs: compiled_features containing survey scores and sensor rankings. \n",
    "    \n",
    "    this function performs agglomerative clustering with 4 groups. \n",
    "    \"\"\"\n",
    "    \n",
    "    clustering = AgglomerativeClustering(n_clusters = n_clusters)\n",
    "    \n",
    "    features = compiled_features[desired_columns].values\n",
    "    \n",
    "    clustering.fit(features)\n",
    "    \n",
    "    compiled_features['cluster'] = clustering.labels_\n",
    "    \n",
    "    return compiled_features"
   ]
  },
  {
   "cell_type": "code",
   "execution_count": 199,
   "metadata": {},
   "outputs": [],
   "source": [
    "clusters = importance_clustering(compiled_features, 2, ['pss score', 'loneliness score'])\n",
    "\n",
    "#for i in clusters['cluster'].unique(): \n",
    "#    print(clusters[clusters['cluster'] == i])"
   ]
  },
  {
   "cell_type": "code",
   "execution_count": 169,
   "metadata": {},
   "outputs": [
    {
     "data": {
      "text/html": [
       "<div>\n",
       "<style scoped>\n",
       "    .dataframe tbody tr th:only-of-type {\n",
       "        vertical-align: middle;\n",
       "    }\n",
       "\n",
       "    .dataframe tbody tr th {\n",
       "        vertical-align: top;\n",
       "    }\n",
       "\n",
       "    .dataframe thead th {\n",
       "        text-align: right;\n",
       "    }\n",
       "</style>\n",
       "<table border=\"1\" class=\"dataframe\">\n",
       "  <thead>\n",
       "    <tr style=\"text-align: right;\">\n",
       "      <th></th>\n",
       "      <th>first</th>\n",
       "      <th>pss score</th>\n",
       "      <th>loneliness score</th>\n",
       "    </tr>\n",
       "  </thead>\n",
       "  <tbody>\n",
       "    <tr>\n",
       "      <th>3</th>\n",
       "      <td>activity inference</td>\n",
       "      <td>21.0</td>\n",
       "      <td>54</td>\n",
       "    </tr>\n",
       "    <tr>\n",
       "      <th>5</th>\n",
       "      <td>dark duration</td>\n",
       "      <td>20.0</td>\n",
       "      <td>64</td>\n",
       "    </tr>\n",
       "    <tr>\n",
       "      <th>9</th>\n",
       "      <td>dark duration</td>\n",
       "      <td>33.0</td>\n",
       "      <td>51</td>\n",
       "    </tr>\n",
       "    <tr>\n",
       "      <th>10</th>\n",
       "      <td>convo duration</td>\n",
       "      <td>20.0</td>\n",
       "      <td>55</td>\n",
       "    </tr>\n",
       "    <tr>\n",
       "      <th>11</th>\n",
       "      <td>convo duration</td>\n",
       "      <td>27.0</td>\n",
       "      <td>47</td>\n",
       "    </tr>\n",
       "    <tr>\n",
       "      <th>13</th>\n",
       "      <td>dark duration</td>\n",
       "      <td>33.0</td>\n",
       "      <td>62</td>\n",
       "    </tr>\n",
       "    <tr>\n",
       "      <th>19</th>\n",
       "      <td>dark duration</td>\n",
       "      <td>22.0</td>\n",
       "      <td>60</td>\n",
       "    </tr>\n",
       "    <tr>\n",
       "      <th>22</th>\n",
       "      <td>activity inference</td>\n",
       "      <td>20.0</td>\n",
       "      <td>51</td>\n",
       "    </tr>\n",
       "  </tbody>\n",
       "</table>\n",
       "</div>"
      ],
      "text/plain": [
       "                  first  pss score  loneliness score\n",
       "3    activity inference       21.0                54\n",
       "5         dark duration       20.0                64\n",
       "9         dark duration       33.0                51\n",
       "10       convo duration       20.0                55\n",
       "11       convo duration       27.0                47\n",
       "13        dark duration       33.0                62\n",
       "19        dark duration       22.0                60\n",
       "22   activity inference       20.0                51"
      ]
     },
     "execution_count": 169,
     "metadata": {},
     "output_type": "execute_result"
    }
   ],
   "source": [
    "clusters[clusters['cluster'] == 1][['first', 'pss score', 'loneliness score']]"
   ]
  },
  {
   "cell_type": "code",
   "execution_count": 42,
   "metadata": {},
   "outputs": [
    {
     "data": {
      "text/html": [
       "<div>\n",
       "<style scoped>\n",
       "    .dataframe tbody tr th:only-of-type {\n",
       "        vertical-align: middle;\n",
       "    }\n",
       "\n",
       "    .dataframe tbody tr th {\n",
       "        vertical-align: top;\n",
       "    }\n",
       "\n",
       "    .dataframe thead th {\n",
       "        text-align: right;\n",
       "    }\n",
       "</style>\n",
       "<table border=\"1\" class=\"dataframe\">\n",
       "  <thead>\n",
       "    <tr style=\"text-align: right;\">\n",
       "      <th></th>\n",
       "      <th>first</th>\n",
       "      <th>pss score</th>\n",
       "      <th>loneliness score</th>\n",
       "    </tr>\n",
       "  </thead>\n",
       "  <tbody>\n",
       "    <tr>\n",
       "      <th>0</th>\n",
       "      <td>convo duration</td>\n",
       "      <td>24.0</td>\n",
       "      <td>32</td>\n",
       "    </tr>\n",
       "    <tr>\n",
       "      <th>1</th>\n",
       "      <td>number colocations</td>\n",
       "      <td>15.0</td>\n",
       "      <td>31</td>\n",
       "    </tr>\n",
       "    <tr>\n",
       "      <th>2</th>\n",
       "      <td>activity inference</td>\n",
       "      <td>21.0</td>\n",
       "      <td>32</td>\n",
       "    </tr>\n",
       "    <tr>\n",
       "      <th>4</th>\n",
       "      <td>number colocations</td>\n",
       "      <td>23.0</td>\n",
       "      <td>34</td>\n",
       "    </tr>\n",
       "    <tr>\n",
       "      <th>6</th>\n",
       "      <td>number colocations</td>\n",
       "      <td>11.0</td>\n",
       "      <td>44</td>\n",
       "    </tr>\n",
       "    <tr>\n",
       "      <th>7</th>\n",
       "      <td>activity inference</td>\n",
       "      <td>9.0</td>\n",
       "      <td>29</td>\n",
       "    </tr>\n",
       "    <tr>\n",
       "      <th>8</th>\n",
       "      <td>activity inference</td>\n",
       "      <td>24.0</td>\n",
       "      <td>35</td>\n",
       "    </tr>\n",
       "    <tr>\n",
       "      <th>12</th>\n",
       "      <td>number colocations</td>\n",
       "      <td>3.0</td>\n",
       "      <td>28</td>\n",
       "    </tr>\n",
       "    <tr>\n",
       "      <th>14</th>\n",
       "      <td>dark duration</td>\n",
       "      <td>12.0</td>\n",
       "      <td>34</td>\n",
       "    </tr>\n",
       "    <tr>\n",
       "      <th>15</th>\n",
       "      <td>number colocations</td>\n",
       "      <td>21.0</td>\n",
       "      <td>40</td>\n",
       "    </tr>\n",
       "    <tr>\n",
       "      <th>16</th>\n",
       "      <td>convo duration</td>\n",
       "      <td>18.0</td>\n",
       "      <td>27</td>\n",
       "    </tr>\n",
       "    <tr>\n",
       "      <th>17</th>\n",
       "      <td>convo duration</td>\n",
       "      <td>31.0</td>\n",
       "      <td>32</td>\n",
       "    </tr>\n",
       "    <tr>\n",
       "      <th>18</th>\n",
       "      <td>number colocations</td>\n",
       "      <td>14.0</td>\n",
       "      <td>41</td>\n",
       "    </tr>\n",
       "    <tr>\n",
       "      <th>20</th>\n",
       "      <td>number colocations</td>\n",
       "      <td>23.0</td>\n",
       "      <td>34</td>\n",
       "    </tr>\n",
       "    <tr>\n",
       "      <th>21</th>\n",
       "      <td>dark duration</td>\n",
       "      <td>9.0</td>\n",
       "      <td>44</td>\n",
       "    </tr>\n",
       "    <tr>\n",
       "      <th>23</th>\n",
       "      <td>number colocations</td>\n",
       "      <td>18.0</td>\n",
       "      <td>37</td>\n",
       "    </tr>\n",
       "  </tbody>\n",
       "</table>\n",
       "</div>"
      ],
      "text/plain": [
       "                  first  pss score  loneliness score\n",
       "0        convo duration       24.0                32\n",
       "1    number colocations       15.0                31\n",
       "2    activity inference       21.0                32\n",
       "4    number colocations       23.0                34\n",
       "6    number colocations       11.0                44\n",
       "7    activity inference        9.0                29\n",
       "8    activity inference       24.0                35\n",
       "12   number colocations        3.0                28\n",
       "14        dark duration       12.0                34\n",
       "15   number colocations       21.0                40\n",
       "16       convo duration       18.0                27\n",
       "17       convo duration       31.0                32\n",
       "18   number colocations       14.0                41\n",
       "20   number colocations       23.0                34\n",
       "21        dark duration        9.0                44\n",
       "23   number colocations       18.0                37"
      ]
     },
     "execution_count": 42,
     "metadata": {},
     "output_type": "execute_result"
    }
   ],
   "source": [
    "clusters[clusters['cluster'] == 0][['first', 'pss score', 'loneliness score']]"
   ]
  },
  {
   "cell_type": "code",
   "execution_count": 148,
   "metadata": {},
   "outputs": [],
   "source": [
    "def plot_ranking_clusters(clustered_df, desired_columns, n_clusters): \n",
    "    \"\"\"\n",
    "    input: \n",
    "        clustered_df -- containing rankings and clusters for each user id\n",
    "        desired_columns -- features we want to plot\n",
    "        n_cluster -- number of clusters\n",
    "        \n",
    "    first plots the clusters on the desired_columns axes\n",
    "    \"\"\"\n",
    "    \n",
    "    ### plot clusters on desired axes\n",
    "    ax = plt.subplot(111)\n",
    "    \n",
    "    for i in range(n_clusters): \n",
    "        # plot each individual cluster\n",
    "        cluster = clustered_df[clustered_df['cluster'] == i]\n",
    "        ax.scatter(x=cluster[desired_columns[0]], y=cluster[desired_columns[1]], label = 'cluster {}'.format(i))\n",
    "\n",
    "        \n",
    "    plt.legend()\n",
    "    plt.ylabel(desired_columns[1])\n",
    "    plt.xlabel(desired_columns[0])\n",
    "    plt.title(desired_columns[0] + ' ' + desired_columns[1] + ' clustering')\n",
    "    \n",
    "    \n",
    "    ### make a histogram of the most important features in each cluster   \n",
    "    \n",
    "    plt.figure(figsize = (10, 6))\n",
    "    sns.countplot(x = 'first', hue = 'cluster', data = clustered_df)\n",
    "\n",
    "    plt.ylabel('number of users')\n",
    "    plt.title('most important sensor per cluster')\n",
    "    plt.figure()\n",
    "    \n",
    "     ### make a histogram of the least important features in each cluster  \n",
    "    \n",
    "    plt.figure(figsize = (10, 6))\n",
    "    sns.countplot(x = 'fifth', hue = 'cluster', data = clustered_df)\n",
    "\n",
    "    plt.ylabel('number of users')\n",
    "    plt.title('least important sensor per cluster')\n",
    "    plt.figure()\n",
    "    \n",
    "    "
   ]
  },
  {
   "cell_type": "code",
   "execution_count": 102,
   "metadata": {},
   "outputs": [],
   "source": [
    "def combined_clustering(n_clusters, desired_columns): \n",
    "    \"\"\"\n",
    "    inputs: n_clusters -- number of clusters desired\n",
    "            desired_columns -- labels of survey columns we want to plot\n",
    "            \n",
    "    forms the feature importance ranking data into the number of clusters and plots them on the desired_columns axes.\n",
    "    Also produces histograms showing the feature importance of each cluster. \n",
    "    \"\"\"\n",
    "    compiled_features = compile_clustering_features()\n",
    "    clusters = importance_clustering(compiled_features, n_clusters, desired_columns)\n",
    "    plot_ranking_clusters(clusters, desired_columns, n_clusters)"
   ]
  },
  {
   "cell_type": "code",
   "execution_count": 151,
   "metadata": {},
   "outputs": [
    {
     "data": {
      "image/png": "[encoded data removed]",
      "text/plain": [
       "<Figure size 1440x504 with 1 Axes>"
      ]
     },
     "metadata": {
      "needs_background": "light"
     },
     "output_type": "display_data"
    },
    {
     "data": {
      "image/png": "[encoded data removed]",
      "text/plain": [
       "<Figure size 720x432 with 1 Axes>"
      ]
     },
     "metadata": {
      "needs_background": "light"
     },
     "output_type": "display_data"
    },
    {
     "data": {
      "text/plain": [
       "<Figure size 432x288 with 0 Axes>"
      ]
     },
     "metadata": {},
     "output_type": "display_data"
    },
    {
     "data": {
      "image/png": "[encoded data removed]",
      "text/plain": [
       "<Figure size 720x432 with 1 Axes>"
      ]
     },
     "metadata": {
      "needs_background": "light"
     },
     "output_type": "display_data"
    },
    {
     "data": {
      "text/plain": [
       "<Figure size 432x288 with 0 Axes>"
      ]
     },
     "metadata": {},
     "output_type": "display_data"
    }
   ],
   "source": [
    "combined_clustering(2, ['pss score', 'loneliness score'])"
   ]
  },
  {
   "cell_type": "code",
   "execution_count": 152,
   "metadata": {},
   "outputs": [
    {
     "data": {
      "image/png": "[encoded data removed]",
      "text/plain": [
       "<Figure size 1440x504 with 1 Axes>"
      ]
     },
     "metadata": {
      "needs_background": "light"
     },
     "output_type": "display_data"
    },
    {
     "data": {
      "image/png": "[encoded data removed]",
      "text/plain": [
       "<Figure size 720x432 with 1 Axes>"
      ]
     },
     "metadata": {
      "needs_background": "light"
     },
     "output_type": "display_data"
    },
    {
     "data": {
      "text/plain": [
       "<Figure size 432x288 with 0 Axes>"
      ]
     },
     "metadata": {},
     "output_type": "display_data"
    },
    {
     "data": {
      "image/png": "[encoded data removed]",
      "text/plain": [
       "<Figure size 720x432 with 1 Axes>"
      ]
     },
     "metadata": {
      "needs_background": "light"
     },
     "output_type": "display_data"
    },
    {
     "data": {
      "text/plain": [
       "<Figure size 432x288 with 0 Axes>"
      ]
     },
     "metadata": {},
     "output_type": "display_data"
    }
   ],
   "source": [
    "combined_clustering(3, ['pss score', 'loneliness score'])"
   ]
  },
  {
   "cell_type": "code",
   "execution_count": 153,
   "metadata": {},
   "outputs": [
    {
     "data": {
      "image/png": "[encoded data removed]",
      "text/plain": [
       "<Figure size 1440x504 with 1 Axes>"
      ]
     },
     "metadata": {
      "needs_background": "light"
     },
     "output_type": "display_data"
    },
    {
     "data": {
      "image/png": "[encoded data removed]",
      "text/plain": [
       "<Figure size 720x432 with 1 Axes>"
      ]
     },
     "metadata": {
      "needs_background": "light"
     },
     "output_type": "display_data"
    },
    {
     "data": {
      "text/plain": [
       "<Figure size 432x288 with 0 Axes>"
      ]
     },
     "metadata": {},
     "output_type": "display_data"
    },
    {
     "data": {
      "image/png": "[encoded data removed]",
      "text/plain": [
       "<Figure size 720x432 with 1 Axes>"
      ]
     },
     "metadata": {
      "needs_background": "light"
     },
     "output_type": "display_data"
    },
    {
     "data": {
      "text/plain": [
       "<Figure size 432x288 with 0 Axes>"
      ]
     },
     "metadata": {},
     "output_type": "display_data"
    }
   ],
   "source": [
    "combined_clustering(4, ['pss score', 'loneliness score'])"
   ]
  },
  {
   "cell_type": "code",
   "execution_count": 154,
   "metadata": {},
   "outputs": [
    {
     "data": {
      "image/png": "[encoded data removed]",
      "text/plain": [
       "<Figure size 1440x504 with 1 Axes>"
      ]
     },
     "metadata": {
      "needs_background": "light"
     },
     "output_type": "display_data"
    },
    {
     "data": {
      "image/png": "[encoded data removed]",
      "text/plain": [
       "<Figure size 720x432 with 1 Axes>"
      ]
     },
     "metadata": {
      "needs_background": "light"
     },
     "output_type": "display_data"
    },
    {
     "data": {
      "text/plain": [
       "<Figure size 432x288 with 0 Axes>"
      ]
     },
     "metadata": {},
     "output_type": "display_data"
    },
    {
     "data": {
      "image/png": "[encoded data removed]",
      "text/plain": [
       "<Figure size 720x432 with 1 Axes>"
      ]
     },
     "metadata": {
      "needs_background": "light"
     },
     "output_type": "display_data"
    },
    {
     "data": {
      "text/plain": [
       "<Figure size 432x288 with 0 Axes>"
      ]
     },
     "metadata": {},
     "output_type": "display_data"
    }
   ],
   "source": [
    "combined_clustering(5, ['pss score', 'loneliness score'])"
   ]
  },
  {
   "cell_type": "code",
   "execution_count": null,
   "metadata": {},
   "outputs": [],
   "source": []
  }
 ],
 "metadata": {
  "kernelspec": {
   "display_name": "Python 3",
   "language": "python",
   "name": "python3"
  },
  "language_info": {
   "codemirror_mode": {
    "name": "ipython",
    "version": 3
   },
   "file_extension": ".py",
   "mimetype": "text/x-python",
   "name": "python",
   "nbconvert_exporter": "python",
   "pygments_lexer": "ipython3",
   "version": "3.7.7"
  }
 },
 "nbformat": 4,
 "nbformat_minor": 4
}
